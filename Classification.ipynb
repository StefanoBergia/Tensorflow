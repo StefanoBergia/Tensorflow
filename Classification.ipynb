{
  "nbformat": 4,
  "nbformat_minor": 0,
  "metadata": {
    "colab": {
      "name": "Classification.ipynb",
      "provenance": [],
      "authorship_tag": "ABX9TyM0ZM2yNVJXxfKJvEKHodUw",
      "include_colab_link": true
    },
    "kernelspec": {
      "name": "python3",
      "display_name": "Python 3"
    },
    "language_info": {
      "name": "python"
    }
  },
  "cells": [
    {
      "cell_type": "markdown",
      "metadata": {
        "id": "view-in-github",
        "colab_type": "text"
      },
      "source": [
        "<a href=\"https://colab.research.google.com/github/StefanoBergia/Tensorflow/blob/main/Classification.ipynb\" target=\"_parent\"><img src=\"https://colab.research.google.com/assets/colab-badge.svg\" alt=\"Open In Colab\"/></a>"
      ]
    },
    {
      "cell_type": "code",
      "execution_count": 1,
      "metadata": {
        "id": "9brf53URY-LK",
        "colab": {
          "base_uri": "https://localhost:8080/"
        },
        "outputId": "c76174d1-2e85-4dbb-cc9c-7b3629676802"
      },
      "outputs": [
        {
          "output_type": "stream",
          "name": "stdout",
          "text": [
            "2.8.0\n"
          ]
        }
      ],
      "source": [
        "#!pip install -q tensorflow\n",
        "import tensorflow as tf\n",
        "print(tf.__version__)"
      ]
    },
    {
      "cell_type": "code",
      "source": [
        "#Load dataset\n",
        "from sklearn.datasets import load_breast_cancer\n",
        "data=load_breast_cancer()"
      ],
      "metadata": {
        "id": "vxgQtBTbd8Ts"
      },
      "execution_count": 2,
      "outputs": []
    },
    {
      "cell_type": "code",
      "source": [
        "type(data)"
      ],
      "metadata": {
        "colab": {
          "base_uri": "https://localhost:8080/"
        },
        "id": "Meuko_b0eTcq",
        "outputId": "4e94eb4a-fe03-47bb-c60e-7668b7ddaa91"
      },
      "execution_count": 3,
      "outputs": [
        {
          "output_type": "execute_result",
          "data": {
            "text/plain": [
              "sklearn.utils.Bunch"
            ]
          },
          "metadata": {},
          "execution_count": 3
        }
      ]
    },
    {
      "cell_type": "code",
      "source": [
        "data.keys()"
      ],
      "metadata": {
        "colab": {
          "base_uri": "https://localhost:8080/"
        },
        "id": "zBRQByMIegHz",
        "outputId": "f80c0ae0-6702-40ca-c606-33403ef07c9f"
      },
      "execution_count": 4,
      "outputs": [
        {
          "output_type": "execute_result",
          "data": {
            "text/plain": [
              "dict_keys(['data', 'target', 'frame', 'target_names', 'DESCR', 'feature_names', 'filename', 'data_module'])"
            ]
          },
          "metadata": {},
          "execution_count": 4
        }
      ]
    },
    {
      "cell_type": "code",
      "source": [
        "data.data.shape"
      ],
      "metadata": {
        "colab": {
          "base_uri": "https://localhost:8080/"
        },
        "id": "IjK69x_8epK_",
        "outputId": "7d4da69f-53df-4989-86e2-c4cac85a5f21"
      },
      "execution_count": 5,
      "outputs": [
        {
          "output_type": "execute_result",
          "data": {
            "text/plain": [
              "(569, 30)"
            ]
          },
          "metadata": {},
          "execution_count": 5
        }
      ]
    },
    {
      "cell_type": "code",
      "source": [
        "data.target"
      ],
      "metadata": {
        "colab": {
          "base_uri": "https://localhost:8080/"
        },
        "id": "CO3De2htetrO",
        "outputId": "365ba63b-b730-4749-9aee-befeda24eab9"
      },
      "execution_count": 6,
      "outputs": [
        {
          "output_type": "execute_result",
          "data": {
            "text/plain": [
              "array([0, 0, 0, 0, 0, 0, 0, 0, 0, 0, 0, 0, 0, 0, 0, 0, 0, 0, 0, 1, 1, 1,\n",
              "       0, 0, 0, 0, 0, 0, 0, 0, 0, 0, 0, 0, 0, 0, 0, 1, 0, 0, 0, 0, 0, 0,\n",
              "       0, 0, 1, 0, 1, 1, 1, 1, 1, 0, 0, 1, 0, 0, 1, 1, 1, 1, 0, 1, 0, 0,\n",
              "       1, 1, 1, 1, 0, 1, 0, 0, 1, 0, 1, 0, 0, 1, 1, 1, 0, 0, 1, 0, 0, 0,\n",
              "       1, 1, 1, 0, 1, 1, 0, 0, 1, 1, 1, 0, 0, 1, 1, 1, 1, 0, 1, 1, 0, 1,\n",
              "       1, 1, 1, 1, 1, 1, 1, 0, 0, 0, 1, 0, 0, 1, 1, 1, 0, 0, 1, 0, 1, 0,\n",
              "       0, 1, 0, 0, 1, 1, 0, 1, 1, 0, 1, 1, 1, 1, 0, 1, 1, 1, 1, 1, 1, 1,\n",
              "       1, 1, 0, 1, 1, 1, 1, 0, 0, 1, 0, 1, 1, 0, 0, 1, 1, 0, 0, 1, 1, 1,\n",
              "       1, 0, 1, 1, 0, 0, 0, 1, 0, 1, 0, 1, 1, 1, 0, 1, 1, 0, 0, 1, 0, 0,\n",
              "       0, 0, 1, 0, 0, 0, 1, 0, 1, 0, 1, 1, 0, 1, 0, 0, 0, 0, 1, 1, 0, 0,\n",
              "       1, 1, 1, 0, 1, 1, 1, 1, 1, 0, 0, 1, 1, 0, 1, 1, 0, 0, 1, 0, 1, 1,\n",
              "       1, 1, 0, 1, 1, 1, 1, 1, 0, 1, 0, 0, 0, 0, 0, 0, 0, 0, 0, 0, 0, 0,\n",
              "       0, 0, 1, 1, 1, 1, 1, 1, 0, 1, 0, 1, 1, 0, 1, 1, 0, 1, 0, 0, 1, 1,\n",
              "       1, 1, 1, 1, 1, 1, 1, 1, 1, 1, 1, 0, 1, 1, 0, 1, 0, 1, 1, 1, 1, 1,\n",
              "       1, 1, 1, 1, 1, 1, 1, 1, 1, 0, 1, 1, 1, 0, 1, 0, 1, 1, 1, 1, 0, 0,\n",
              "       0, 1, 1, 1, 1, 0, 1, 0, 1, 0, 1, 1, 1, 0, 1, 1, 1, 1, 1, 1, 1, 0,\n",
              "       0, 0, 1, 1, 1, 1, 1, 1, 1, 1, 1, 1, 1, 0, 0, 1, 0, 0, 0, 1, 0, 0,\n",
              "       1, 1, 1, 1, 1, 0, 1, 1, 1, 1, 1, 0, 1, 1, 1, 0, 1, 1, 0, 0, 1, 1,\n",
              "       1, 1, 1, 1, 0, 1, 1, 1, 1, 1, 1, 1, 0, 1, 1, 1, 1, 1, 0, 1, 1, 0,\n",
              "       1, 1, 1, 1, 1, 1, 1, 1, 1, 1, 1, 1, 0, 1, 0, 0, 1, 0, 1, 1, 1, 1,\n",
              "       1, 0, 1, 1, 0, 1, 0, 1, 1, 0, 1, 0, 1, 1, 1, 1, 1, 1, 1, 1, 0, 0,\n",
              "       1, 1, 1, 1, 1, 1, 0, 1, 1, 1, 1, 1, 1, 1, 1, 1, 1, 0, 1, 1, 1, 1,\n",
              "       1, 1, 1, 0, 1, 0, 1, 1, 0, 1, 1, 1, 1, 1, 0, 0, 1, 0, 1, 0, 1, 1,\n",
              "       1, 1, 1, 0, 1, 1, 0, 1, 0, 1, 0, 0, 1, 1, 1, 0, 1, 1, 1, 1, 1, 1,\n",
              "       1, 1, 1, 1, 1, 0, 1, 0, 0, 1, 1, 1, 1, 1, 1, 1, 1, 1, 1, 1, 1, 1,\n",
              "       1, 1, 1, 1, 1, 1, 1, 1, 1, 1, 1, 1, 0, 0, 0, 0, 0, 0, 1])"
            ]
          },
          "metadata": {},
          "execution_count": 6
        }
      ]
    },
    {
      "cell_type": "code",
      "source": [
        "print(data.target_names)\n",
        "print(data.target.shape)"
      ],
      "metadata": {
        "colab": {
          "base_uri": "https://localhost:8080/"
        },
        "id": "31e-YO9Xezs0",
        "outputId": "ff7623f4-c05a-4923-8b7b-7b40e5a080e7"
      },
      "execution_count": 7,
      "outputs": [
        {
          "output_type": "stream",
          "name": "stdout",
          "text": [
            "['malignant' 'benign']\n",
            "(569,)\n"
          ]
        }
      ]
    },
    {
      "cell_type": "code",
      "source": [
        "data.feature_names"
      ],
      "metadata": {
        "colab": {
          "base_uri": "https://localhost:8080/"
        },
        "id": "fp9IVdsQfBaS",
        "outputId": "d88fe3a3-8f49-4694-9252-40e9180f7694"
      },
      "execution_count": 8,
      "outputs": [
        {
          "output_type": "execute_result",
          "data": {
            "text/plain": [
              "array(['mean radius', 'mean texture', 'mean perimeter', 'mean area',\n",
              "       'mean smoothness', 'mean compactness', 'mean concavity',\n",
              "       'mean concave points', 'mean symmetry', 'mean fractal dimension',\n",
              "       'radius error', 'texture error', 'perimeter error', 'area error',\n",
              "       'smoothness error', 'compactness error', 'concavity error',\n",
              "       'concave points error', 'symmetry error',\n",
              "       'fractal dimension error', 'worst radius', 'worst texture',\n",
              "       'worst perimeter', 'worst area', 'worst smoothness',\n",
              "       'worst compactness', 'worst concavity', 'worst concave points',\n",
              "       'worst symmetry', 'worst fractal dimension'], dtype='<U23')"
            ]
          },
          "metadata": {},
          "execution_count": 8
        }
      ]
    },
    {
      "cell_type": "code",
      "source": [
        "from sklearn.model_selection import train_test_split\n",
        "\n",
        "X_train,X_test,y_train,y_test=train_test_split(data.data,data.target,test_size=0.3)\n",
        "N,D=X_train.shape\n",
        "print(N,D)"
      ],
      "metadata": {
        "colab": {
          "base_uri": "https://localhost:8080/"
        },
        "id": "cd27JMoAfEN0",
        "outputId": "32de3df2-965c-4354-8916-d108f8fbb1a7"
      },
      "execution_count": 9,
      "outputs": [
        {
          "output_type": "stream",
          "name": "stdout",
          "text": [
            "398 30\n"
          ]
        }
      ]
    },
    {
      "cell_type": "code",
      "source": [
        "from sklearn.preprocessing import StandardScaler\n",
        "\n",
        "scaler=StandardScaler()\n",
        "X_train=scaler.fit_transform(X_train)       #\n",
        "X_test=scaler.transform(X_test)"
      ],
      "metadata": {
        "id": "ODjI1NcbfgQg"
      },
      "execution_count": 10,
      "outputs": []
    },
    {
      "cell_type": "code",
      "source": [
        "model=tf.keras.models.Sequential([\n",
        "    tf.keras.layers.Input(shape=(D,)),        #D=numero di features\n",
        "    tf.keras.layers.Dense(1,activation='sigmoid')\n",
        "])\n",
        "\n",
        "#si può anche fare:\n",
        "#model=tf.keras.models.Sequential()\n",
        "#model.add( tf.keras.layers.Dense(1,activation='sigmoid'))\n",
        "\n",
        "model.compile(optimizer='adam',\n",
        "              loss='binary_crossentropy',\n",
        "              metrics=['accuracy'])\n",
        "\n",
        "r=model.fit(X_train,y_train,validation_data=(X_test,y_test),epochs=100)\n",
        "\n",
        "print(\"Train score:\", model.evaluate(X_train,y_train))\n",
        "print(\"Test score:\", model.evaluate(X_test,y_test))"
      ],
      "metadata": {
        "colab": {
          "base_uri": "https://localhost:8080/"
        },
        "id": "5hFwAvozfu_-",
        "outputId": "11e17bf6-3260-472e-b284-788be51c1a0f"
      },
      "execution_count": 11,
      "outputs": [
        {
          "output_type": "stream",
          "name": "stdout",
          "text": [
            "Epoch 1/100\n",
            "13/13 [==============================] - 1s 29ms/step - loss: 0.9142 - accuracy: 0.4221 - val_loss: 0.9390 - val_accuracy: 0.4327\n",
            "Epoch 2/100\n",
            "13/13 [==============================] - 0s 7ms/step - loss: 0.8175 - accuracy: 0.4874 - val_loss: 0.8409 - val_accuracy: 0.4854\n",
            "Epoch 3/100\n",
            "13/13 [==============================] - 0s 7ms/step - loss: 0.7301 - accuracy: 0.5452 - val_loss: 0.7598 - val_accuracy: 0.5556\n",
            "Epoch 4/100\n",
            "13/13 [==============================] - 0s 6ms/step - loss: 0.6594 - accuracy: 0.6030 - val_loss: 0.6914 - val_accuracy: 0.6023\n",
            "Epoch 5/100\n",
            "13/13 [==============================] - 0s 11ms/step - loss: 0.5990 - accuracy: 0.6533 - val_loss: 0.6336 - val_accuracy: 0.6667\n",
            "Epoch 6/100\n",
            "13/13 [==============================] - 0s 12ms/step - loss: 0.5479 - accuracy: 0.7111 - val_loss: 0.5858 - val_accuracy: 0.7778\n",
            "Epoch 7/100\n",
            "13/13 [==============================] - 0s 6ms/step - loss: 0.5045 - accuracy: 0.7563 - val_loss: 0.5465 - val_accuracy: 0.7895\n",
            "Epoch 8/100\n",
            "13/13 [==============================] - 0s 11ms/step - loss: 0.4687 - accuracy: 0.7839 - val_loss: 0.5130 - val_accuracy: 0.8246\n",
            "Epoch 9/100\n",
            "13/13 [==============================] - 0s 9ms/step - loss: 0.4373 - accuracy: 0.8241 - val_loss: 0.4853 - val_accuracy: 0.8538\n",
            "Epoch 10/100\n",
            "13/13 [==============================] - 0s 6ms/step - loss: 0.4110 - accuracy: 0.8342 - val_loss: 0.4605 - val_accuracy: 0.8655\n",
            "Epoch 11/100\n",
            "13/13 [==============================] - 0s 6ms/step - loss: 0.3878 - accuracy: 0.8467 - val_loss: 0.4387 - val_accuracy: 0.8830\n",
            "Epoch 12/100\n",
            "13/13 [==============================] - 0s 6ms/step - loss: 0.3673 - accuracy: 0.8593 - val_loss: 0.4195 - val_accuracy: 0.8889\n",
            "Epoch 13/100\n",
            "13/13 [==============================] - 0s 10ms/step - loss: 0.3492 - accuracy: 0.8769 - val_loss: 0.4024 - val_accuracy: 0.8830\n",
            "Epoch 14/100\n",
            "13/13 [==============================] - 0s 8ms/step - loss: 0.3330 - accuracy: 0.8894 - val_loss: 0.3866 - val_accuracy: 0.8889\n",
            "Epoch 15/100\n",
            "13/13 [==============================] - 0s 9ms/step - loss: 0.3183 - accuracy: 0.8945 - val_loss: 0.3726 - val_accuracy: 0.8947\n",
            "Epoch 16/100\n",
            "13/13 [==============================] - 0s 9ms/step - loss: 0.3053 - accuracy: 0.9020 - val_loss: 0.3601 - val_accuracy: 0.8947\n",
            "Epoch 17/100\n",
            "13/13 [==============================] - 0s 6ms/step - loss: 0.2932 - accuracy: 0.9045 - val_loss: 0.3484 - val_accuracy: 0.9006\n",
            "Epoch 18/100\n",
            "13/13 [==============================] - 0s 6ms/step - loss: 0.2824 - accuracy: 0.9095 - val_loss: 0.3373 - val_accuracy: 0.9123\n",
            "Epoch 19/100\n",
            "13/13 [==============================] - 0s 9ms/step - loss: 0.2724 - accuracy: 0.9121 - val_loss: 0.3272 - val_accuracy: 0.9123\n",
            "Epoch 20/100\n",
            "13/13 [==============================] - 0s 6ms/step - loss: 0.2630 - accuracy: 0.9146 - val_loss: 0.3180 - val_accuracy: 0.9240\n",
            "Epoch 21/100\n",
            "13/13 [==============================] - 0s 7ms/step - loss: 0.2548 - accuracy: 0.9271 - val_loss: 0.3093 - val_accuracy: 0.9240\n",
            "Epoch 22/100\n",
            "13/13 [==============================] - 0s 7ms/step - loss: 0.2469 - accuracy: 0.9322 - val_loss: 0.3012 - val_accuracy: 0.9240\n",
            "Epoch 23/100\n",
            "13/13 [==============================] - 0s 6ms/step - loss: 0.2394 - accuracy: 0.9347 - val_loss: 0.2936 - val_accuracy: 0.9240\n",
            "Epoch 24/100\n",
            "13/13 [==============================] - 0s 6ms/step - loss: 0.2327 - accuracy: 0.9347 - val_loss: 0.2864 - val_accuracy: 0.9240\n",
            "Epoch 25/100\n",
            "13/13 [==============================] - 0s 7ms/step - loss: 0.2264 - accuracy: 0.9372 - val_loss: 0.2790 - val_accuracy: 0.9240\n",
            "Epoch 26/100\n",
            "13/13 [==============================] - 0s 6ms/step - loss: 0.2202 - accuracy: 0.9447 - val_loss: 0.2726 - val_accuracy: 0.9240\n",
            "Epoch 27/100\n",
            "13/13 [==============================] - 0s 6ms/step - loss: 0.2147 - accuracy: 0.9447 - val_loss: 0.2665 - val_accuracy: 0.9240\n",
            "Epoch 28/100\n",
            "13/13 [==============================] - 0s 10ms/step - loss: 0.2094 - accuracy: 0.9447 - val_loss: 0.2602 - val_accuracy: 0.9240\n",
            "Epoch 29/100\n",
            "13/13 [==============================] - 0s 9ms/step - loss: 0.2044 - accuracy: 0.9447 - val_loss: 0.2548 - val_accuracy: 0.9240\n",
            "Epoch 30/100\n",
            "13/13 [==============================] - 0s 11ms/step - loss: 0.2000 - accuracy: 0.9447 - val_loss: 0.2491 - val_accuracy: 0.9240\n",
            "Epoch 31/100\n",
            "13/13 [==============================] - 0s 8ms/step - loss: 0.1955 - accuracy: 0.9447 - val_loss: 0.2443 - val_accuracy: 0.9240\n",
            "Epoch 32/100\n",
            "13/13 [==============================] - 0s 10ms/step - loss: 0.1914 - accuracy: 0.9447 - val_loss: 0.2387 - val_accuracy: 0.9240\n",
            "Epoch 33/100\n",
            "13/13 [==============================] - 0s 8ms/step - loss: 0.1874 - accuracy: 0.9472 - val_loss: 0.2339 - val_accuracy: 0.9240\n",
            "Epoch 34/100\n",
            "13/13 [==============================] - 0s 6ms/step - loss: 0.1838 - accuracy: 0.9497 - val_loss: 0.2295 - val_accuracy: 0.9298\n",
            "Epoch 35/100\n",
            "13/13 [==============================] - 0s 8ms/step - loss: 0.1803 - accuracy: 0.9497 - val_loss: 0.2254 - val_accuracy: 0.9298\n",
            "Epoch 36/100\n",
            "13/13 [==============================] - 0s 10ms/step - loss: 0.1771 - accuracy: 0.9523 - val_loss: 0.2211 - val_accuracy: 0.9298\n",
            "Epoch 37/100\n",
            "13/13 [==============================] - 0s 9ms/step - loss: 0.1740 - accuracy: 0.9497 - val_loss: 0.2171 - val_accuracy: 0.9298\n",
            "Epoch 38/100\n",
            "13/13 [==============================] - 0s 7ms/step - loss: 0.1709 - accuracy: 0.9497 - val_loss: 0.2137 - val_accuracy: 0.9298\n",
            "Epoch 39/100\n",
            "13/13 [==============================] - 0s 6ms/step - loss: 0.1682 - accuracy: 0.9497 - val_loss: 0.2099 - val_accuracy: 0.9298\n",
            "Epoch 40/100\n",
            "13/13 [==============================] - 0s 6ms/step - loss: 0.1655 - accuracy: 0.9497 - val_loss: 0.2064 - val_accuracy: 0.9357\n",
            "Epoch 41/100\n",
            "13/13 [==============================] - 0s 6ms/step - loss: 0.1629 - accuracy: 0.9523 - val_loss: 0.2031 - val_accuracy: 0.9357\n",
            "Epoch 42/100\n",
            "13/13 [==============================] - 0s 11ms/step - loss: 0.1604 - accuracy: 0.9523 - val_loss: 0.1997 - val_accuracy: 0.9357\n",
            "Epoch 43/100\n",
            "13/13 [==============================] - 0s 7ms/step - loss: 0.1581 - accuracy: 0.9523 - val_loss: 0.1966 - val_accuracy: 0.9357\n",
            "Epoch 44/100\n",
            "13/13 [==============================] - 0s 7ms/step - loss: 0.1559 - accuracy: 0.9523 - val_loss: 0.1935 - val_accuracy: 0.9357\n",
            "Epoch 45/100\n",
            "13/13 [==============================] - 0s 6ms/step - loss: 0.1538 - accuracy: 0.9523 - val_loss: 0.1902 - val_accuracy: 0.9357\n",
            "Epoch 46/100\n",
            "13/13 [==============================] - 0s 9ms/step - loss: 0.1516 - accuracy: 0.9523 - val_loss: 0.1873 - val_accuracy: 0.9357\n",
            "Epoch 47/100\n",
            "13/13 [==============================] - 0s 12ms/step - loss: 0.1497 - accuracy: 0.9523 - val_loss: 0.1845 - val_accuracy: 0.9357\n",
            "Epoch 48/100\n",
            "13/13 [==============================] - 0s 11ms/step - loss: 0.1478 - accuracy: 0.9523 - val_loss: 0.1816 - val_accuracy: 0.9357\n",
            "Epoch 49/100\n",
            "13/13 [==============================] - 0s 11ms/step - loss: 0.1459 - accuracy: 0.9523 - val_loss: 0.1792 - val_accuracy: 0.9357\n",
            "Epoch 50/100\n",
            "13/13 [==============================] - 0s 8ms/step - loss: 0.1442 - accuracy: 0.9523 - val_loss: 0.1765 - val_accuracy: 0.9357\n",
            "Epoch 51/100\n",
            "13/13 [==============================] - 0s 7ms/step - loss: 0.1425 - accuracy: 0.9523 - val_loss: 0.1738 - val_accuracy: 0.9357\n",
            "Epoch 52/100\n",
            "13/13 [==============================] - 0s 7ms/step - loss: 0.1409 - accuracy: 0.9523 - val_loss: 0.1713 - val_accuracy: 0.9357\n",
            "Epoch 53/100\n",
            "13/13 [==============================] - 0s 6ms/step - loss: 0.1393 - accuracy: 0.9548 - val_loss: 0.1690 - val_accuracy: 0.9357\n",
            "Epoch 54/100\n",
            "13/13 [==============================] - 0s 10ms/step - loss: 0.1378 - accuracy: 0.9573 - val_loss: 0.1670 - val_accuracy: 0.9357\n",
            "Epoch 55/100\n",
            "13/13 [==============================] - 0s 8ms/step - loss: 0.1364 - accuracy: 0.9573 - val_loss: 0.1645 - val_accuracy: 0.9357\n",
            "Epoch 56/100\n",
            "13/13 [==============================] - 0s 6ms/step - loss: 0.1350 - accuracy: 0.9598 - val_loss: 0.1623 - val_accuracy: 0.9357\n",
            "Epoch 57/100\n",
            "13/13 [==============================] - 0s 9ms/step - loss: 0.1336 - accuracy: 0.9598 - val_loss: 0.1600 - val_accuracy: 0.9357\n",
            "Epoch 58/100\n",
            "13/13 [==============================] - 0s 10ms/step - loss: 0.1323 - accuracy: 0.9598 - val_loss: 0.1579 - val_accuracy: 0.9357\n",
            "Epoch 59/100\n",
            "13/13 [==============================] - 0s 8ms/step - loss: 0.1310 - accuracy: 0.9598 - val_loss: 0.1564 - val_accuracy: 0.9357\n",
            "Epoch 60/100\n",
            "13/13 [==============================] - 0s 13ms/step - loss: 0.1299 - accuracy: 0.9598 - val_loss: 0.1544 - val_accuracy: 0.9415\n",
            "Epoch 61/100\n",
            "13/13 [==============================] - 0s 8ms/step - loss: 0.1287 - accuracy: 0.9598 - val_loss: 0.1524 - val_accuracy: 0.9415\n",
            "Epoch 62/100\n",
            "13/13 [==============================] - 0s 6ms/step - loss: 0.1275 - accuracy: 0.9623 - val_loss: 0.1503 - val_accuracy: 0.9415\n",
            "Epoch 63/100\n",
            "13/13 [==============================] - 0s 10ms/step - loss: 0.1264 - accuracy: 0.9623 - val_loss: 0.1486 - val_accuracy: 0.9415\n",
            "Epoch 64/100\n",
            "13/13 [==============================] - 0s 8ms/step - loss: 0.1253 - accuracy: 0.9623 - val_loss: 0.1466 - val_accuracy: 0.9415\n",
            "Epoch 65/100\n",
            "13/13 [==============================] - 0s 13ms/step - loss: 0.1243 - accuracy: 0.9623 - val_loss: 0.1449 - val_accuracy: 0.9415\n",
            "Epoch 66/100\n",
            "13/13 [==============================] - 0s 8ms/step - loss: 0.1233 - accuracy: 0.9623 - val_loss: 0.1430 - val_accuracy: 0.9415\n",
            "Epoch 67/100\n",
            "13/13 [==============================] - 0s 16ms/step - loss: 0.1222 - accuracy: 0.9673 - val_loss: 0.1416 - val_accuracy: 0.9415\n",
            "Epoch 68/100\n",
            "13/13 [==============================] - 0s 10ms/step - loss: 0.1213 - accuracy: 0.9673 - val_loss: 0.1401 - val_accuracy: 0.9415\n",
            "Epoch 69/100\n",
            "13/13 [==============================] - 0s 8ms/step - loss: 0.1203 - accuracy: 0.9673 - val_loss: 0.1387 - val_accuracy: 0.9415\n",
            "Epoch 70/100\n",
            "13/13 [==============================] - 0s 7ms/step - loss: 0.1195 - accuracy: 0.9673 - val_loss: 0.1371 - val_accuracy: 0.9415\n",
            "Epoch 71/100\n",
            "13/13 [==============================] - 0s 11ms/step - loss: 0.1185 - accuracy: 0.9673 - val_loss: 0.1356 - val_accuracy: 0.9415\n",
            "Epoch 72/100\n",
            "13/13 [==============================] - 0s 7ms/step - loss: 0.1177 - accuracy: 0.9673 - val_loss: 0.1340 - val_accuracy: 0.9415\n",
            "Epoch 73/100\n",
            "13/13 [==============================] - 0s 10ms/step - loss: 0.1169 - accuracy: 0.9673 - val_loss: 0.1325 - val_accuracy: 0.9415\n",
            "Epoch 74/100\n",
            "13/13 [==============================] - 0s 6ms/step - loss: 0.1160 - accuracy: 0.9673 - val_loss: 0.1309 - val_accuracy: 0.9415\n",
            "Epoch 75/100\n",
            "13/13 [==============================] - 0s 10ms/step - loss: 0.1151 - accuracy: 0.9673 - val_loss: 0.1297 - val_accuracy: 0.9415\n",
            "Epoch 76/100\n",
            "13/13 [==============================] - 0s 13ms/step - loss: 0.1144 - accuracy: 0.9673 - val_loss: 0.1285 - val_accuracy: 0.9474\n",
            "Epoch 77/100\n",
            "13/13 [==============================] - 0s 8ms/step - loss: 0.1137 - accuracy: 0.9673 - val_loss: 0.1271 - val_accuracy: 0.9474\n",
            "Epoch 78/100\n",
            "13/13 [==============================] - 0s 10ms/step - loss: 0.1129 - accuracy: 0.9673 - val_loss: 0.1260 - val_accuracy: 0.9474\n",
            "Epoch 79/100\n",
            "13/13 [==============================] - 0s 14ms/step - loss: 0.1122 - accuracy: 0.9673 - val_loss: 0.1247 - val_accuracy: 0.9474\n",
            "Epoch 80/100\n",
            "13/13 [==============================] - 0s 15ms/step - loss: 0.1115 - accuracy: 0.9673 - val_loss: 0.1233 - val_accuracy: 0.9474\n",
            "Epoch 81/100\n",
            "13/13 [==============================] - 0s 10ms/step - loss: 0.1109 - accuracy: 0.9698 - val_loss: 0.1222 - val_accuracy: 0.9474\n",
            "Epoch 82/100\n",
            "13/13 [==============================] - 0s 7ms/step - loss: 0.1102 - accuracy: 0.9698 - val_loss: 0.1207 - val_accuracy: 0.9474\n",
            "Epoch 83/100\n",
            "13/13 [==============================] - 0s 14ms/step - loss: 0.1095 - accuracy: 0.9698 - val_loss: 0.1196 - val_accuracy: 0.9474\n",
            "Epoch 84/100\n",
            "13/13 [==============================] - 0s 16ms/step - loss: 0.1088 - accuracy: 0.9698 - val_loss: 0.1186 - val_accuracy: 0.9474\n",
            "Epoch 85/100\n",
            "13/13 [==============================] - 0s 12ms/step - loss: 0.1082 - accuracy: 0.9698 - val_loss: 0.1177 - val_accuracy: 0.9532\n",
            "Epoch 86/100\n",
            "13/13 [==============================] - 0s 19ms/step - loss: 0.1076 - accuracy: 0.9698 - val_loss: 0.1164 - val_accuracy: 0.9532\n",
            "Epoch 87/100\n",
            "13/13 [==============================] - 0s 6ms/step - loss: 0.1070 - accuracy: 0.9698 - val_loss: 0.1154 - val_accuracy: 0.9532\n",
            "Epoch 88/100\n",
            "13/13 [==============================] - 0s 11ms/step - loss: 0.1065 - accuracy: 0.9698 - val_loss: 0.1146 - val_accuracy: 0.9532\n",
            "Epoch 89/100\n",
            "13/13 [==============================] - 0s 12ms/step - loss: 0.1059 - accuracy: 0.9698 - val_loss: 0.1135 - val_accuracy: 0.9532\n",
            "Epoch 90/100\n",
            "13/13 [==============================] - 0s 13ms/step - loss: 0.1053 - accuracy: 0.9698 - val_loss: 0.1127 - val_accuracy: 0.9532\n",
            "Epoch 91/100\n",
            "13/13 [==============================] - 0s 6ms/step - loss: 0.1048 - accuracy: 0.9698 - val_loss: 0.1118 - val_accuracy: 0.9532\n",
            "Epoch 92/100\n",
            "13/13 [==============================] - 0s 10ms/step - loss: 0.1042 - accuracy: 0.9724 - val_loss: 0.1110 - val_accuracy: 0.9532\n",
            "Epoch 93/100\n",
            "13/13 [==============================] - 0s 16ms/step - loss: 0.1037 - accuracy: 0.9724 - val_loss: 0.1102 - val_accuracy: 0.9532\n",
            "Epoch 94/100\n",
            "13/13 [==============================] - 0s 12ms/step - loss: 0.1032 - accuracy: 0.9724 - val_loss: 0.1092 - val_accuracy: 0.9532\n",
            "Epoch 95/100\n",
            "13/13 [==============================] - 0s 7ms/step - loss: 0.1027 - accuracy: 0.9724 - val_loss: 0.1085 - val_accuracy: 0.9532\n",
            "Epoch 96/100\n",
            "13/13 [==============================] - 0s 10ms/step - loss: 0.1022 - accuracy: 0.9724 - val_loss: 0.1076 - val_accuracy: 0.9532\n",
            "Epoch 97/100\n",
            "13/13 [==============================] - 0s 11ms/step - loss: 0.1017 - accuracy: 0.9724 - val_loss: 0.1068 - val_accuracy: 0.9532\n",
            "Epoch 98/100\n",
            "13/13 [==============================] - 0s 13ms/step - loss: 0.1012 - accuracy: 0.9724 - val_loss: 0.1059 - val_accuracy: 0.9532\n",
            "Epoch 99/100\n",
            "13/13 [==============================] - 0s 8ms/step - loss: 0.1007 - accuracy: 0.9724 - val_loss: 0.1053 - val_accuracy: 0.9532\n",
            "Epoch 100/100\n",
            "13/13 [==============================] - 0s 9ms/step - loss: 0.1003 - accuracy: 0.9724 - val_loss: 0.1045 - val_accuracy: 0.9532\n",
            "13/13 [==============================] - 0s 3ms/step - loss: 0.1000 - accuracy: 0.9724\n",
            "Train score: [0.10000992566347122, 0.9723618030548096]\n",
            "6/6 [==============================] - 0s 4ms/step - loss: 0.1045 - accuracy: 0.9532\n",
            "Test score: [0.1044778972864151, 0.9532163739204407]\n"
          ]
        }
      ]
    },
    {
      "cell_type": "code",
      "source": [
        "import matplotlib.pyplot as plt\n",
        "plt.plot(r.history['loss'],label='loss')\n",
        "plt.plot(r.history['val_loss'],label='val_loss')\n",
        "plt.legend()"
      ],
      "metadata": {
        "colab": {
          "base_uri": "https://localhost:8080/",
          "height": 283
        },
        "id": "zF3-TCC3hKvj",
        "outputId": "f018c173-1770-48cf-eda2-771c710084e7"
      },
      "execution_count": 12,
      "outputs": [
        {
          "output_type": "execute_result",
          "data": {
            "text/plain": [
              "<matplotlib.legend.Legend at 0x7f9ec35f5990>"
            ]
          },
          "metadata": {},
          "execution_count": 12
        },
        {
          "output_type": "display_data",
          "data": {
            "text/plain": [
              "<Figure size 432x288 with 1 Axes>"
            ],
            "image/png": "[encoded data removed]"
          },
          "metadata": {
            "needs_background": "light"
          }
        }
      ]
    },
    {
      "cell_type": "code",
      "source": [
        "plt.plot(r.history['accuracy'],label='accuracy')\n",
        "plt.plot(r.history['val_accuracy'],label='val_accuracy')\n",
        "plt.legend()"
      ],
      "metadata": {
        "colab": {
          "base_uri": "https://localhost:8080/",
          "height": 283
        },
        "id": "QFvllpGKhgbw",
        "outputId": "b0d2ddfb-933d-44c5-f285-00f781ebf3fd"
      },
      "execution_count": 13,
      "outputs": [
        {
          "output_type": "execute_result",
          "data": {
            "text/plain": [
              "<matplotlib.legend.Legend at 0x7f9ec35a3e50>"
            ]
          },
          "metadata": {},
          "execution_count": 13
        },
        {
          "output_type": "display_data",
          "data": {
            "text/plain": [
              "<Figure size 432x288 with 1 Axes>"
            ],
            "image/png": "[encoded data removed]"
          },
          "metadata": {
            "needs_background": "light"
          }
        }
      ]
    }
  ]
}