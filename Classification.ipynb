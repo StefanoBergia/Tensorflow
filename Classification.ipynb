{
  "nbformat": 4,
  "nbformat_minor": 0,
  "metadata": {
    "colab": {
      "name": "Classification.ipynb",
      "provenance": [],
      "authorship_tag": "ABX9TyMy8jUTAOY6hccbPHydYsnV",
      "include_colab_link": true
    },
    "kernelspec": {
      "name": "python3",
      "display_name": "Python 3"
    },
    "language_info": {
      "name": "python"
    }
  },
  "cells": [
    {
      "cell_type": "markdown",
      "metadata": {
        "id": "view-in-github",
        "colab_type": "text"
      },
      "source": [
        "<a href=\"https://colab.research.google.com/github/StefanoBergia/Tensorflow/blob/main/Classification.ipynb\" target=\"_parent\"><img src=\"https://colab.research.google.com/assets/colab-badge.svg\" alt=\"Open In Colab\"/></a>"
      ]
    },
    {
      "cell_type": "code",
      "execution_count": 14,
      "metadata": {
        "id": "9brf53URY-LK",
        "colab": {
          "base_uri": "https://localhost:8080/"
        },
        "outputId": "f330666d-6a0f-4cce-d3c7-e7409a0ba4bf"
      },
      "outputs": [
        {
          "output_type": "stream",
          "name": "stdout",
          "text": [
            "2.8.0\n"
          ]
        }
      ],
      "source": [
        "#!pip install -q tensorflow\n",
        "import tensorflow as tf\n",
        "print(tf.__version__)"
      ]
    },
    {
      "cell_type": "code",
      "source": [
        "#Load dataset\n",
        "from sklearn.datasets import load_breast_cancer\n",
        "data=load_breast_cancer()"
      ],
      "metadata": {
        "id": "vxgQtBTbd8Ts"
      },
      "execution_count": 15,
      "outputs": []
    },
    {
      "cell_type": "code",
      "source": [
        "type(data)"
      ],
      "metadata": {
        "colab": {
          "base_uri": "https://localhost:8080/"
        },
        "id": "Meuko_b0eTcq",
        "outputId": "d9aa6c8a-6eb7-4533-81fa-579dddeb864c"
      },
      "execution_count": 16,
      "outputs": [
        {
          "output_type": "execute_result",
          "data": {
            "text/plain": [
              "sklearn.utils.Bunch"
            ]
          },
          "metadata": {},
          "execution_count": 16
        }
      ]
    },
    {
      "cell_type": "code",
      "source": [
        "data.keys()"
      ],
      "metadata": {
        "colab": {
          "base_uri": "https://localhost:8080/"
        },
        "id": "zBRQByMIegHz",
        "outputId": "d1b7bee0-93fe-4519-b9a4-cf3e79c5a263"
      },
      "execution_count": 17,
      "outputs": [
        {
          "output_type": "execute_result",
          "data": {
            "text/plain": [
              "dict_keys(['data', 'target', 'frame', 'target_names', 'DESCR', 'feature_names', 'filename', 'data_module'])"
            ]
          },
          "metadata": {},
          "execution_count": 17
        }
      ]
    },
    {
      "cell_type": "code",
      "source": [
        "data.data.shape"
      ],
      "metadata": {
        "colab": {
          "base_uri": "https://localhost:8080/"
        },
        "id": "IjK69x_8epK_",
        "outputId": "66fc2302-40c1-424a-9961-c29589a3c866"
      },
      "execution_count": 18,
      "outputs": [
        {
          "output_type": "execute_result",
          "data": {
            "text/plain": [
              "(569, 30)"
            ]
          },
          "metadata": {},
          "execution_count": 18
        }
      ]
    },
    {
      "cell_type": "code",
      "source": [
        "data.target"
      ],
      "metadata": {
        "colab": {
          "base_uri": "https://localhost:8080/"
        },
        "id": "CO3De2htetrO",
        "outputId": "1c8eba65-e7c4-4f57-9ca0-1cc2c860870b"
      },
      "execution_count": 19,
      "outputs": [
        {
          "output_type": "execute_result",
          "data": {
            "text/plain": [
              "array([0, 0, 0, 0, 0, 0, 0, 0, 0, 0, 0, 0, 0, 0, 0, 0, 0, 0, 0, 1, 1, 1,\n",
              "       0, 0, 0, 0, 0, 0, 0, 0, 0, 0, 0, 0, 0, 0, 0, 1, 0, 0, 0, 0, 0, 0,\n",
              "       0, 0, 1, 0, 1, 1, 1, 1, 1, 0, 0, 1, 0, 0, 1, 1, 1, 1, 0, 1, 0, 0,\n",
              "       1, 1, 1, 1, 0, 1, 0, 0, 1, 0, 1, 0, 0, 1, 1, 1, 0, 0, 1, 0, 0, 0,\n",
              "       1, 1, 1, 0, 1, 1, 0, 0, 1, 1, 1, 0, 0, 1, 1, 1, 1, 0, 1, 1, 0, 1,\n",
              "       1, 1, 1, 1, 1, 1, 1, 0, 0, 0, 1, 0, 0, 1, 1, 1, 0, 0, 1, 0, 1, 0,\n",
              "       0, 1, 0, 0, 1, 1, 0, 1, 1, 0, 1, 1, 1, 1, 0, 1, 1, 1, 1, 1, 1, 1,\n",
              "       1, 1, 0, 1, 1, 1, 1, 0, 0, 1, 0, 1, 1, 0, 0, 1, 1, 0, 0, 1, 1, 1,\n",
              "       1, 0, 1, 1, 0, 0, 0, 1, 0, 1, 0, 1, 1, 1, 0, 1, 1, 0, 0, 1, 0, 0,\n",
              "       0, 0, 1, 0, 0, 0, 1, 0, 1, 0, 1, 1, 0, 1, 0, 0, 0, 0, 1, 1, 0, 0,\n",
              "       1, 1, 1, 0, 1, 1, 1, 1, 1, 0, 0, 1, 1, 0, 1, 1, 0, 0, 1, 0, 1, 1,\n",
              "       1, 1, 0, 1, 1, 1, 1, 1, 0, 1, 0, 0, 0, 0, 0, 0, 0, 0, 0, 0, 0, 0,\n",
              "       0, 0, 1, 1, 1, 1, 1, 1, 0, 1, 0, 1, 1, 0, 1, 1, 0, 1, 0, 0, 1, 1,\n",
              "       1, 1, 1, 1, 1, 1, 1, 1, 1, 1, 1, 0, 1, 1, 0, 1, 0, 1, 1, 1, 1, 1,\n",
              "       1, 1, 1, 1, 1, 1, 1, 1, 1, 0, 1, 1, 1, 0, 1, 0, 1, 1, 1, 1, 0, 0,\n",
              "       0, 1, 1, 1, 1, 0, 1, 0, 1, 0, 1, 1, 1, 0, 1, 1, 1, 1, 1, 1, 1, 0,\n",
              "       0, 0, 1, 1, 1, 1, 1, 1, 1, 1, 1, 1, 1, 0, 0, 1, 0, 0, 0, 1, 0, 0,\n",
              "       1, 1, 1, 1, 1, 0, 1, 1, 1, 1, 1, 0, 1, 1, 1, 0, 1, 1, 0, 0, 1, 1,\n",
              "       1, 1, 1, 1, 0, 1, 1, 1, 1, 1, 1, 1, 0, 1, 1, 1, 1, 1, 0, 1, 1, 0,\n",
              "       1, 1, 1, 1, 1, 1, 1, 1, 1, 1, 1, 1, 0, 1, 0, 0, 1, 0, 1, 1, 1, 1,\n",
              "       1, 0, 1, 1, 0, 1, 0, 1, 1, 0, 1, 0, 1, 1, 1, 1, 1, 1, 1, 1, 0, 0,\n",
              "       1, 1, 1, 1, 1, 1, 0, 1, 1, 1, 1, 1, 1, 1, 1, 1, 1, 0, 1, 1, 1, 1,\n",
              "       1, 1, 1, 0, 1, 0, 1, 1, 0, 1, 1, 1, 1, 1, 0, 0, 1, 0, 1, 0, 1, 1,\n",
              "       1, 1, 1, 0, 1, 1, 0, 1, 0, 1, 0, 0, 1, 1, 1, 0, 1, 1, 1, 1, 1, 1,\n",
              "       1, 1, 1, 1, 1, 0, 1, 0, 0, 1, 1, 1, 1, 1, 1, 1, 1, 1, 1, 1, 1, 1,\n",
              "       1, 1, 1, 1, 1, 1, 1, 1, 1, 1, 1, 1, 0, 0, 0, 0, 0, 0, 1])"
            ]
          },
          "metadata": {},
          "execution_count": 19
        }
      ]
    },
    {
      "cell_type": "code",
      "source": [
        "print(data.target_names)\n",
        "print(data.target.shape)"
      ],
      "metadata": {
        "colab": {
          "base_uri": "https://localhost:8080/"
        },
        "id": "31e-YO9Xezs0",
        "outputId": "eeaca363-f4ed-4a4b-fa47-0be1d38ba721"
      },
      "execution_count": 20,
      "outputs": [
        {
          "output_type": "stream",
          "name": "stdout",
          "text": [
            "['malignant' 'benign']\n",
            "(569,)\n"
          ]
        }
      ]
    },
    {
      "cell_type": "code",
      "source": [
        "data.feature_names"
      ],
      "metadata": {
        "colab": {
          "base_uri": "https://localhost:8080/"
        },
        "id": "fp9IVdsQfBaS",
        "outputId": "de63e380-f35c-4759-867d-f1ff5d42f54b"
      },
      "execution_count": 21,
      "outputs": [
        {
          "output_type": "execute_result",
          "data": {
            "text/plain": [
              "array(['mean radius', 'mean texture', 'mean perimeter', 'mean area',\n",
              "       'mean smoothness', 'mean compactness', 'mean concavity',\n",
              "       'mean concave points', 'mean symmetry', 'mean fractal dimension',\n",
              "       'radius error', 'texture error', 'perimeter error', 'area error',\n",
              "       'smoothness error', 'compactness error', 'concavity error',\n",
              "       'concave points error', 'symmetry error',\n",
              "       'fractal dimension error', 'worst radius', 'worst texture',\n",
              "       'worst perimeter', 'worst area', 'worst smoothness',\n",
              "       'worst compactness', 'worst concavity', 'worst concave points',\n",
              "       'worst symmetry', 'worst fractal dimension'], dtype='<U23')"
            ]
          },
          "metadata": {},
          "execution_count": 21
        }
      ]
    },
    {
      "cell_type": "code",
      "source": [
        "from sklearn.model_selection import train_test_split\n",
        "\n",
        "X_train,X_test,y_train,y_test=train_test_split(data.data,data.target,test_size=0.3)\n",
        "N,D=X_train.shape\n",
        "print(N,D)"
      ],
      "metadata": {
        "colab": {
          "base_uri": "https://localhost:8080/"
        },
        "id": "cd27JMoAfEN0",
        "outputId": "8d7e406b-cdb6-48a4-d50d-84f3e60ac173"
      },
      "execution_count": 22,
      "outputs": [
        {
          "output_type": "stream",
          "name": "stdout",
          "text": [
            "398 30\n"
          ]
        }
      ]
    },
    {
      "cell_type": "code",
      "source": [
        "from sklearn.preprocessing import StandardScaler\n",
        "\n",
        "scaler=StandardScaler()\n",
        "X_train=scaler.fit_transform(X_train)       #\n",
        "X_test=scaler.transform(X_test)"
      ],
      "metadata": {
        "id": "ODjI1NcbfgQg"
      },
      "execution_count": 23,
      "outputs": []
    },
    {
      "cell_type": "code",
      "source": [
        "model=tf.keras.models.Sequential([\n",
        "    tf.keras.layers.Input(shape=(D,)),        #D=numero di features\n",
        "    tf.keras.layers.Dense(1,activation='sigmoid')\n",
        "])\n",
        "\n",
        "#si può anche fare:\n",
        "#model=tf.keras.models.Sequential()\n",
        "#model.add( tf.keras.layers.Dense(1,activation='sigmoid'))\n",
        "\n",
        "model.compile(optimizer='adam',\n",
        "              loss='binary_crossentropy',\n",
        "              metrics=['accuracy'])\n",
        "\n",
        "r=model.fit(X_train,y_train,validation_data=(X_test,y_test),epochs=100)\n",
        "\n",
        "print(\"Train score:\", model.evaluate(X_train,y_train))\n",
        "print(\"Test score:\", model.evaluate(X_test,y_test))"
      ],
      "metadata": {
        "colab": {
          "base_uri": "https://localhost:8080/"
        },
        "id": "5hFwAvozfu_-",
        "outputId": "f9a9fb7d-60db-4883-d3c8-491ffefb588a"
      },
      "execution_count": 24,
      "outputs": [
        {
          "output_type": "stream",
          "name": "stdout",
          "text": [
            "Epoch 1/100\n",
            "13/13 [==============================] - 1s 14ms/step - loss: 0.9744 - accuracy: 0.2789 - val_loss: 0.9621 - val_accuracy: 0.3216\n",
            "Epoch 2/100\n",
            "13/13 [==============================] - 0s 3ms/step - loss: 0.8713 - accuracy: 0.3618 - val_loss: 0.8545 - val_accuracy: 0.4444\n",
            "Epoch 3/100\n",
            "13/13 [==============================] - 0s 4ms/step - loss: 0.7804 - accuracy: 0.4673 - val_loss: 0.7624 - val_accuracy: 0.4971\n",
            "Epoch 4/100\n",
            "13/13 [==============================] - 0s 4ms/step - loss: 0.7022 - accuracy: 0.5678 - val_loss: 0.6845 - val_accuracy: 0.6082\n",
            "Epoch 5/100\n",
            "13/13 [==============================] - 0s 5ms/step - loss: 0.6363 - accuracy: 0.6508 - val_loss: 0.6184 - val_accuracy: 0.6959\n",
            "Epoch 6/100\n",
            "13/13 [==============================] - 0s 3ms/step - loss: 0.5799 - accuracy: 0.7161 - val_loss: 0.5635 - val_accuracy: 0.7368\n",
            "Epoch 7/100\n",
            "13/13 [==============================] - 0s 4ms/step - loss: 0.5328 - accuracy: 0.7663 - val_loss: 0.5183 - val_accuracy: 0.7778\n",
            "Epoch 8/100\n",
            "13/13 [==============================] - 0s 3ms/step - loss: 0.4926 - accuracy: 0.8065 - val_loss: 0.4807 - val_accuracy: 0.8187\n",
            "Epoch 9/100\n",
            "13/13 [==============================] - 0s 4ms/step - loss: 0.4590 - accuracy: 0.8191 - val_loss: 0.4485 - val_accuracy: 0.8363\n",
            "Epoch 10/100\n",
            "13/13 [==============================] - 0s 4ms/step - loss: 0.4288 - accuracy: 0.8317 - val_loss: 0.4218 - val_accuracy: 0.8421\n",
            "Epoch 11/100\n",
            "13/13 [==============================] - 0s 4ms/step - loss: 0.4035 - accuracy: 0.8467 - val_loss: 0.3983 - val_accuracy: 0.8480\n",
            "Epoch 12/100\n",
            "13/13 [==============================] - 0s 3ms/step - loss: 0.3812 - accuracy: 0.8543 - val_loss: 0.3778 - val_accuracy: 0.8480\n",
            "Epoch 13/100\n",
            "13/13 [==============================] - 0s 3ms/step - loss: 0.3620 - accuracy: 0.8643 - val_loss: 0.3595 - val_accuracy: 0.8596\n",
            "Epoch 14/100\n",
            "13/13 [==============================] - 0s 3ms/step - loss: 0.3445 - accuracy: 0.8869 - val_loss: 0.3435 - val_accuracy: 0.8772\n",
            "Epoch 15/100\n",
            "13/13 [==============================] - 0s 3ms/step - loss: 0.3293 - accuracy: 0.8970 - val_loss: 0.3288 - val_accuracy: 0.9006\n",
            "Epoch 16/100\n",
            "13/13 [==============================] - 0s 4ms/step - loss: 0.3155 - accuracy: 0.9070 - val_loss: 0.3160 - val_accuracy: 0.9064\n",
            "Epoch 17/100\n",
            "13/13 [==============================] - 0s 4ms/step - loss: 0.3030 - accuracy: 0.9121 - val_loss: 0.3045 - val_accuracy: 0.9064\n",
            "Epoch 18/100\n",
            "13/13 [==============================] - 0s 4ms/step - loss: 0.2919 - accuracy: 0.9171 - val_loss: 0.2938 - val_accuracy: 0.9064\n",
            "Epoch 19/100\n",
            "13/13 [==============================] - 0s 3ms/step - loss: 0.2817 - accuracy: 0.9221 - val_loss: 0.2840 - val_accuracy: 0.9123\n",
            "Epoch 20/100\n",
            "13/13 [==============================] - 0s 4ms/step - loss: 0.2721 - accuracy: 0.9246 - val_loss: 0.2750 - val_accuracy: 0.9240\n",
            "Epoch 21/100\n",
            "13/13 [==============================] - 0s 5ms/step - loss: 0.2634 - accuracy: 0.9271 - val_loss: 0.2669 - val_accuracy: 0.9298\n",
            "Epoch 22/100\n",
            "13/13 [==============================] - 0s 5ms/step - loss: 0.2555 - accuracy: 0.9271 - val_loss: 0.2594 - val_accuracy: 0.9298\n",
            "Epoch 23/100\n",
            "13/13 [==============================] - 0s 5ms/step - loss: 0.2482 - accuracy: 0.9322 - val_loss: 0.2521 - val_accuracy: 0.9357\n",
            "Epoch 24/100\n",
            "13/13 [==============================] - 0s 3ms/step - loss: 0.2413 - accuracy: 0.9372 - val_loss: 0.2454 - val_accuracy: 0.9415\n",
            "Epoch 25/100\n",
            "13/13 [==============================] - 0s 5ms/step - loss: 0.2348 - accuracy: 0.9397 - val_loss: 0.2390 - val_accuracy: 0.9474\n",
            "Epoch 26/100\n",
            "13/13 [==============================] - 0s 3ms/step - loss: 0.2287 - accuracy: 0.9422 - val_loss: 0.2333 - val_accuracy: 0.9474\n",
            "Epoch 27/100\n",
            "13/13 [==============================] - 0s 3ms/step - loss: 0.2230 - accuracy: 0.9447 - val_loss: 0.2279 - val_accuracy: 0.9474\n",
            "Epoch 28/100\n",
            "13/13 [==============================] - 0s 5ms/step - loss: 0.2177 - accuracy: 0.9523 - val_loss: 0.2225 - val_accuracy: 0.9474\n",
            "Epoch 29/100\n",
            "13/13 [==============================] - 0s 4ms/step - loss: 0.2127 - accuracy: 0.9523 - val_loss: 0.2177 - val_accuracy: 0.9474\n",
            "Epoch 30/100\n",
            "13/13 [==============================] - 0s 4ms/step - loss: 0.2080 - accuracy: 0.9523 - val_loss: 0.2131 - val_accuracy: 0.9532\n",
            "Epoch 31/100\n",
            "13/13 [==============================] - 0s 3ms/step - loss: 0.2034 - accuracy: 0.9523 - val_loss: 0.2085 - val_accuracy: 0.9532\n",
            "Epoch 32/100\n",
            "13/13 [==============================] - 0s 4ms/step - loss: 0.1992 - accuracy: 0.9548 - val_loss: 0.2043 - val_accuracy: 0.9532\n",
            "Epoch 33/100\n",
            "13/13 [==============================] - 0s 5ms/step - loss: 0.1953 - accuracy: 0.9573 - val_loss: 0.2003 - val_accuracy: 0.9532\n",
            "Epoch 34/100\n",
            "13/13 [==============================] - 0s 5ms/step - loss: 0.1915 - accuracy: 0.9573 - val_loss: 0.1967 - val_accuracy: 0.9532\n",
            "Epoch 35/100\n",
            "13/13 [==============================] - 0s 3ms/step - loss: 0.1877 - accuracy: 0.9573 - val_loss: 0.1932 - val_accuracy: 0.9532\n",
            "Epoch 36/100\n",
            "13/13 [==============================] - 0s 5ms/step - loss: 0.1844 - accuracy: 0.9573 - val_loss: 0.1896 - val_accuracy: 0.9532\n",
            "Epoch 37/100\n",
            "13/13 [==============================] - 0s 3ms/step - loss: 0.1810 - accuracy: 0.9573 - val_loss: 0.1863 - val_accuracy: 0.9532\n",
            "Epoch 38/100\n",
            "13/13 [==============================] - 0s 4ms/step - loss: 0.1779 - accuracy: 0.9573 - val_loss: 0.1832 - val_accuracy: 0.9532\n",
            "Epoch 39/100\n",
            "13/13 [==============================] - 0s 4ms/step - loss: 0.1749 - accuracy: 0.9598 - val_loss: 0.1803 - val_accuracy: 0.9532\n",
            "Epoch 40/100\n",
            "13/13 [==============================] - 0s 3ms/step - loss: 0.1721 - accuracy: 0.9623 - val_loss: 0.1776 - val_accuracy: 0.9532\n",
            "Epoch 41/100\n",
            "13/13 [==============================] - 0s 5ms/step - loss: 0.1694 - accuracy: 0.9623 - val_loss: 0.1750 - val_accuracy: 0.9532\n",
            "Epoch 42/100\n",
            "13/13 [==============================] - 0s 5ms/step - loss: 0.1668 - accuracy: 0.9623 - val_loss: 0.1725 - val_accuracy: 0.9591\n",
            "Epoch 43/100\n",
            "13/13 [==============================] - 0s 5ms/step - loss: 0.1643 - accuracy: 0.9623 - val_loss: 0.1701 - val_accuracy: 0.9649\n",
            "Epoch 44/100\n",
            "13/13 [==============================] - 0s 5ms/step - loss: 0.1621 - accuracy: 0.9623 - val_loss: 0.1678 - val_accuracy: 0.9649\n",
            "Epoch 45/100\n",
            "13/13 [==============================] - 0s 4ms/step - loss: 0.1597 - accuracy: 0.9623 - val_loss: 0.1656 - val_accuracy: 0.9649\n",
            "Epoch 46/100\n",
            "13/13 [==============================] - 0s 5ms/step - loss: 0.1576 - accuracy: 0.9623 - val_loss: 0.1633 - val_accuracy: 0.9649\n",
            "Epoch 47/100\n",
            "13/13 [==============================] - 0s 5ms/step - loss: 0.1555 - accuracy: 0.9623 - val_loss: 0.1612 - val_accuracy: 0.9649\n",
            "Epoch 48/100\n",
            "13/13 [==============================] - 0s 5ms/step - loss: 0.1535 - accuracy: 0.9623 - val_loss: 0.1592 - val_accuracy: 0.9649\n",
            "Epoch 49/100\n",
            "13/13 [==============================] - 0s 5ms/step - loss: 0.1515 - accuracy: 0.9623 - val_loss: 0.1573 - val_accuracy: 0.9708\n",
            "Epoch 50/100\n",
            "13/13 [==============================] - 0s 4ms/step - loss: 0.1497 - accuracy: 0.9623 - val_loss: 0.1555 - val_accuracy: 0.9708\n",
            "Epoch 51/100\n",
            "13/13 [==============================] - 0s 4ms/step - loss: 0.1479 - accuracy: 0.9623 - val_loss: 0.1538 - val_accuracy: 0.9708\n",
            "Epoch 52/100\n",
            "13/13 [==============================] - 0s 4ms/step - loss: 0.1462 - accuracy: 0.9623 - val_loss: 0.1520 - val_accuracy: 0.9649\n",
            "Epoch 53/100\n",
            "13/13 [==============================] - 0s 5ms/step - loss: 0.1445 - accuracy: 0.9648 - val_loss: 0.1503 - val_accuracy: 0.9649\n",
            "Epoch 54/100\n",
            "13/13 [==============================] - 0s 3ms/step - loss: 0.1429 - accuracy: 0.9648 - val_loss: 0.1487 - val_accuracy: 0.9649\n",
            "Epoch 55/100\n",
            "13/13 [==============================] - 0s 5ms/step - loss: 0.1414 - accuracy: 0.9648 - val_loss: 0.1470 - val_accuracy: 0.9649\n",
            "Epoch 56/100\n",
            "13/13 [==============================] - 0s 5ms/step - loss: 0.1398 - accuracy: 0.9648 - val_loss: 0.1455 - val_accuracy: 0.9649\n",
            "Epoch 57/100\n",
            "13/13 [==============================] - 0s 3ms/step - loss: 0.1384 - accuracy: 0.9648 - val_loss: 0.1440 - val_accuracy: 0.9649\n",
            "Epoch 58/100\n",
            "13/13 [==============================] - 0s 5ms/step - loss: 0.1370 - accuracy: 0.9648 - val_loss: 0.1426 - val_accuracy: 0.9649\n",
            "Epoch 59/100\n",
            "13/13 [==============================] - 0s 4ms/step - loss: 0.1356 - accuracy: 0.9648 - val_loss: 0.1411 - val_accuracy: 0.9649\n",
            "Epoch 60/100\n",
            "13/13 [==============================] - 0s 3ms/step - loss: 0.1343 - accuracy: 0.9648 - val_loss: 0.1397 - val_accuracy: 0.9649\n",
            "Epoch 61/100\n",
            "13/13 [==============================] - 0s 4ms/step - loss: 0.1330 - accuracy: 0.9673 - val_loss: 0.1384 - val_accuracy: 0.9649\n",
            "Epoch 62/100\n",
            "13/13 [==============================] - 0s 3ms/step - loss: 0.1317 - accuracy: 0.9673 - val_loss: 0.1371 - val_accuracy: 0.9649\n",
            "Epoch 63/100\n",
            "13/13 [==============================] - 0s 5ms/step - loss: 0.1305 - accuracy: 0.9673 - val_loss: 0.1359 - val_accuracy: 0.9649\n",
            "Epoch 64/100\n",
            "13/13 [==============================] - 0s 5ms/step - loss: 0.1294 - accuracy: 0.9673 - val_loss: 0.1347 - val_accuracy: 0.9649\n",
            "Epoch 65/100\n",
            "13/13 [==============================] - 0s 4ms/step - loss: 0.1283 - accuracy: 0.9698 - val_loss: 0.1335 - val_accuracy: 0.9649\n",
            "Epoch 66/100\n",
            "13/13 [==============================] - 0s 5ms/step - loss: 0.1271 - accuracy: 0.9724 - val_loss: 0.1324 - val_accuracy: 0.9649\n",
            "Epoch 67/100\n",
            "13/13 [==============================] - 0s 3ms/step - loss: 0.1261 - accuracy: 0.9724 - val_loss: 0.1313 - val_accuracy: 0.9649\n",
            "Epoch 68/100\n",
            "13/13 [==============================] - 0s 3ms/step - loss: 0.1250 - accuracy: 0.9724 - val_loss: 0.1301 - val_accuracy: 0.9649\n",
            "Epoch 69/100\n",
            "13/13 [==============================] - 0s 4ms/step - loss: 0.1240 - accuracy: 0.9724 - val_loss: 0.1291 - val_accuracy: 0.9649\n",
            "Epoch 70/100\n",
            "13/13 [==============================] - 0s 4ms/step - loss: 0.1230 - accuracy: 0.9724 - val_loss: 0.1281 - val_accuracy: 0.9649\n",
            "Epoch 71/100\n",
            "13/13 [==============================] - 0s 5ms/step - loss: 0.1220 - accuracy: 0.9749 - val_loss: 0.1271 - val_accuracy: 0.9649\n",
            "Epoch 72/100\n",
            "13/13 [==============================] - 0s 4ms/step - loss: 0.1211 - accuracy: 0.9749 - val_loss: 0.1260 - val_accuracy: 0.9649\n",
            "Epoch 73/100\n",
            "13/13 [==============================] - 0s 4ms/step - loss: 0.1201 - accuracy: 0.9749 - val_loss: 0.1251 - val_accuracy: 0.9649\n",
            "Epoch 74/100\n",
            "13/13 [==============================] - 0s 5ms/step - loss: 0.1193 - accuracy: 0.9749 - val_loss: 0.1242 - val_accuracy: 0.9649\n",
            "Epoch 75/100\n",
            "13/13 [==============================] - 0s 3ms/step - loss: 0.1185 - accuracy: 0.9749 - val_loss: 0.1234 - val_accuracy: 0.9649\n",
            "Epoch 76/100\n",
            "13/13 [==============================] - 0s 5ms/step - loss: 0.1176 - accuracy: 0.9749 - val_loss: 0.1224 - val_accuracy: 0.9649\n",
            "Epoch 77/100\n",
            "13/13 [==============================] - 0s 3ms/step - loss: 0.1168 - accuracy: 0.9749 - val_loss: 0.1216 - val_accuracy: 0.9649\n",
            "Epoch 78/100\n",
            "13/13 [==============================] - 0s 5ms/step - loss: 0.1160 - accuracy: 0.9749 - val_loss: 0.1208 - val_accuracy: 0.9649\n",
            "Epoch 79/100\n",
            "13/13 [==============================] - 0s 3ms/step - loss: 0.1152 - accuracy: 0.9749 - val_loss: 0.1200 - val_accuracy: 0.9649\n",
            "Epoch 80/100\n",
            "13/13 [==============================] - 0s 5ms/step - loss: 0.1144 - accuracy: 0.9749 - val_loss: 0.1192 - val_accuracy: 0.9649\n",
            "Epoch 81/100\n",
            "13/13 [==============================] - 0s 5ms/step - loss: 0.1137 - accuracy: 0.9749 - val_loss: 0.1184 - val_accuracy: 0.9649\n",
            "Epoch 82/100\n",
            "13/13 [==============================] - 0s 5ms/step - loss: 0.1129 - accuracy: 0.9749 - val_loss: 0.1177 - val_accuracy: 0.9649\n",
            "Epoch 83/100\n",
            "13/13 [==============================] - 0s 5ms/step - loss: 0.1122 - accuracy: 0.9749 - val_loss: 0.1169 - val_accuracy: 0.9649\n",
            "Epoch 84/100\n",
            "13/13 [==============================] - 0s 4ms/step - loss: 0.1115 - accuracy: 0.9749 - val_loss: 0.1162 - val_accuracy: 0.9649\n",
            "Epoch 85/100\n",
            "13/13 [==============================] - 0s 4ms/step - loss: 0.1109 - accuracy: 0.9749 - val_loss: 0.1156 - val_accuracy: 0.9649\n",
            "Epoch 86/100\n",
            "13/13 [==============================] - 0s 3ms/step - loss: 0.1102 - accuracy: 0.9749 - val_loss: 0.1150 - val_accuracy: 0.9649\n",
            "Epoch 87/100\n",
            "13/13 [==============================] - 0s 5ms/step - loss: 0.1096 - accuracy: 0.9749 - val_loss: 0.1142 - val_accuracy: 0.9649\n",
            "Epoch 88/100\n",
            "13/13 [==============================] - 0s 3ms/step - loss: 0.1089 - accuracy: 0.9749 - val_loss: 0.1136 - val_accuracy: 0.9649\n",
            "Epoch 89/100\n",
            "13/13 [==============================] - 0s 4ms/step - loss: 0.1083 - accuracy: 0.9749 - val_loss: 0.1131 - val_accuracy: 0.9649\n",
            "Epoch 90/100\n",
            "13/13 [==============================] - 0s 4ms/step - loss: 0.1077 - accuracy: 0.9749 - val_loss: 0.1125 - val_accuracy: 0.9649\n",
            "Epoch 91/100\n",
            "13/13 [==============================] - 0s 4ms/step - loss: 0.1071 - accuracy: 0.9749 - val_loss: 0.1118 - val_accuracy: 0.9649\n",
            "Epoch 92/100\n",
            "13/13 [==============================] - 0s 5ms/step - loss: 0.1065 - accuracy: 0.9749 - val_loss: 0.1112 - val_accuracy: 0.9649\n",
            "Epoch 93/100\n",
            "13/13 [==============================] - 0s 5ms/step - loss: 0.1059 - accuracy: 0.9749 - val_loss: 0.1107 - val_accuracy: 0.9649\n",
            "Epoch 94/100\n",
            "13/13 [==============================] - 0s 4ms/step - loss: 0.1054 - accuracy: 0.9749 - val_loss: 0.1101 - val_accuracy: 0.9649\n",
            "Epoch 95/100\n",
            "13/13 [==============================] - 0s 5ms/step - loss: 0.1048 - accuracy: 0.9749 - val_loss: 0.1096 - val_accuracy: 0.9649\n",
            "Epoch 96/100\n",
            "13/13 [==============================] - 0s 5ms/step - loss: 0.1043 - accuracy: 0.9774 - val_loss: 0.1089 - val_accuracy: 0.9649\n",
            "Epoch 97/100\n",
            "13/13 [==============================] - 0s 5ms/step - loss: 0.1038 - accuracy: 0.9774 - val_loss: 0.1085 - val_accuracy: 0.9649\n",
            "Epoch 98/100\n",
            "13/13 [==============================] - 0s 5ms/step - loss: 0.1032 - accuracy: 0.9774 - val_loss: 0.1079 - val_accuracy: 0.9649\n",
            "Epoch 99/100\n",
            "13/13 [==============================] - 0s 5ms/step - loss: 0.1027 - accuracy: 0.9774 - val_loss: 0.1073 - val_accuracy: 0.9649\n",
            "Epoch 100/100\n",
            "13/13 [==============================] - 0s 3ms/step - loss: 0.1022 - accuracy: 0.9774 - val_loss: 0.1069 - val_accuracy: 0.9708\n",
            "13/13 [==============================] - 0s 1ms/step - loss: 0.1019 - accuracy: 0.9774\n",
            "Train score: [0.10190576314926147, 0.9773869514465332]\n",
            "6/6 [==============================] - 0s 2ms/step - loss: 0.1069 - accuracy: 0.9708\n",
            "Test score: [0.10687967389822006, 0.9707602262496948]\n"
          ]
        }
      ]
    },
    {
      "cell_type": "code",
      "source": [
        "import matplotlib.pyplot as plt\n",
        "plt.plot(r.history['loss'],label='loss')\n",
        "plt.plot(r.history['val_loss'],label='val_loss')\n",
        "plt.legend()"
      ],
      "metadata": {
        "colab": {
          "base_uri": "https://localhost:8080/",
          "height": 283
        },
        "id": "zF3-TCC3hKvj",
        "outputId": "0fa332b6-7ea3-424a-f6b5-f22399a6ff4a"
      },
      "execution_count": 25,
      "outputs": [
        {
          "output_type": "execute_result",
          "data": {
            "text/plain": [
              "<matplotlib.legend.Legend at 0x7f9ec78050d0>"
            ]
          },
          "metadata": {},
          "execution_count": 25
        },
        {
          "output_type": "display_data",
          "data": {
            "text/plain": [
              "<Figure size 432x288 with 1 Axes>"
            ],
            "image/png": "[encoded data removed]"
          },
          "metadata": {
            "needs_background": "light"
          }
        }
      ]
    },
    {
      "cell_type": "code",
      "source": [
        "plt.plot(r.history['accuracy'],label='accuracy')\n",
        "plt.plot(r.history['val_accuracy'],label='val_accuracy')\n",
        "plt.legend()"
      ],
      "metadata": {
        "colab": {
          "base_uri": "https://localhost:8080/",
          "height": 284
        },
        "id": "QFvllpGKhgbw",
        "outputId": "becb7e22-6044-454d-bb2c-a518f0feaa5a"
      },
      "execution_count": 26,
      "outputs": [
        {
          "output_type": "execute_result",
          "data": {
            "text/plain": [
              "<matplotlib.legend.Legend at 0x7f9ec70c8b50>"
            ]
          },
          "metadata": {},
          "execution_count": 26
        },
        {
          "output_type": "display_data",
          "data": {
            "text/plain": [
              "<Figure size 432x288 with 1 Axes>"
            ],
            "image/png": "[encoded data removed]"
          },
          "metadata": {
            "needs_background": "light"
          }
        }
      ]
    },
    {
      "cell_type": "code",
      "source": [
        "P=model.predict(X_test)\n",
        "print(P)"
      ],
      "metadata": {
        "colab": {
          "base_uri": "https://localhost:8080/"
        },
        "id": "7kJXv1UT8WF-",
        "outputId": "a76b0bae-4899-41ca-95b8-18d4e710f300"
      },
      "execution_count": 27,
      "outputs": [
        {
          "output_type": "stream",
          "name": "stdout",
          "text": [
            "[[9.86817837e-01]\n",
            " [9.94765997e-01]\n",
            " [4.69170511e-02]\n",
            " [2.17407048e-02]\n",
            " [9.80932474e-01]\n",
            " [3.64381492e-01]\n",
            " [1.40824914e-03]\n",
            " [8.89978886e-01]\n",
            " [9.98402834e-01]\n",
            " [3.98768187e-02]\n",
            " [1.36451754e-05]\n",
            " [7.50344098e-02]\n",
            " [2.02000141e-04]\n",
            " [9.47602391e-01]\n",
            " [1.69062614e-03]\n",
            " [9.99728501e-01]\n",
            " [4.25660610e-01]\n",
            " [5.32578997e-05]\n",
            " [9.86696243e-01]\n",
            " [1.62221136e-06]\n",
            " [9.79680181e-01]\n",
            " [3.49146128e-03]\n",
            " [4.98684049e-01]\n",
            " [6.56643391e-01]\n",
            " [3.64234149e-02]\n",
            " [9.34376538e-01]\n",
            " [2.49590009e-01]\n",
            " [9.96809125e-01]\n",
            " [1.25106841e-01]\n",
            " [5.51204503e-01]\n",
            " [9.86546516e-01]\n",
            " [9.19726729e-01]\n",
            " [9.79574144e-01]\n",
            " [2.55568326e-02]\n",
            " [9.60314095e-01]\n",
            " [7.37962723e-01]\n",
            " [9.76758361e-01]\n",
            " [9.97957468e-01]\n",
            " [3.91912162e-02]\n",
            " [7.28633761e-01]\n",
            " [2.64058739e-01]\n",
            " [9.87669468e-01]\n",
            " [9.96160269e-01]\n",
            " [9.80364621e-01]\n",
            " [9.96695280e-01]\n",
            " [2.35098600e-03]\n",
            " [5.82632840e-01]\n",
            " [1.13863051e-02]\n",
            " [9.97893214e-01]\n",
            " [4.20599662e-07]\n",
            " [7.69585371e-04]\n",
            " [9.80809450e-01]\n",
            " [1.73205137e-02]\n",
            " [9.90973353e-01]\n",
            " [8.28678822e-05]\n",
            " [9.99763608e-01]\n",
            " [9.99006093e-01]\n",
            " [9.99364138e-01]\n",
            " [2.41020322e-03]\n",
            " [9.99209523e-01]\n",
            " [9.84057069e-01]\n",
            " [2.14191467e-01]\n",
            " [9.37062740e-01]\n",
            " [9.99005795e-01]\n",
            " [8.15738797e-01]\n",
            " [9.72414017e-03]\n",
            " [1.14091485e-07]\n",
            " [5.04475236e-02]\n",
            " [3.36632133e-03]\n",
            " [3.04895043e-02]\n",
            " [9.58021581e-01]\n",
            " [3.95840704e-01]\n",
            " [8.46643031e-01]\n",
            " [9.98258948e-01]\n",
            " [8.24428916e-01]\n",
            " [8.65934908e-01]\n",
            " [9.98756528e-01]\n",
            " [9.86381531e-01]\n",
            " [9.16779041e-04]\n",
            " [9.83037829e-01]\n",
            " [9.97927785e-01]\n",
            " [9.99704897e-01]\n",
            " [9.90529716e-01]\n",
            " [9.84254062e-01]\n",
            " [1.34580731e-02]\n",
            " [7.01614439e-01]\n",
            " [2.63065100e-04]\n",
            " [6.99261665e-01]\n",
            " [9.74926472e-01]\n",
            " [9.80843782e-01]\n",
            " [9.89324033e-01]\n",
            " [8.40469003e-01]\n",
            " [9.74063337e-01]\n",
            " [9.93741632e-01]\n",
            " [5.81173301e-02]\n",
            " [7.13470508e-05]\n",
            " [7.98039198e-01]\n",
            " [4.12657528e-06]\n",
            " [1.80146098e-03]\n",
            " [9.88341808e-01]\n",
            " [3.17893565e-01]\n",
            " [9.99510169e-01]\n",
            " [9.99064088e-01]\n",
            " [9.96732354e-01]\n",
            " [9.94509816e-01]\n",
            " [3.29843897e-05]\n",
            " [8.21369112e-01]\n",
            " [9.99464869e-01]\n",
            " [9.87670660e-01]\n",
            " [9.97707784e-01]\n",
            " [9.97972012e-01]\n",
            " [9.87698913e-01]\n",
            " [9.71011221e-01]\n",
            " [9.96237874e-01]\n",
            " [9.81473804e-01]\n",
            " [9.80179787e-01]\n",
            " [8.55346620e-02]\n",
            " [3.83274905e-11]\n",
            " [9.58461463e-01]\n",
            " [9.53935266e-01]\n",
            " [8.71782064e-01]\n",
            " [9.34809566e-01]\n",
            " [9.99399900e-01]\n",
            " [9.99337912e-01]\n",
            " [9.86904860e-01]\n",
            " [4.94599342e-04]\n",
            " [3.51831317e-03]\n",
            " [9.17674899e-01]\n",
            " [8.51836324e-01]\n",
            " [9.49840605e-01]\n",
            " [3.86497766e-01]\n",
            " [8.91357839e-01]\n",
            " [3.01280618e-02]\n",
            " [7.10810065e-01]\n",
            " [8.95290971e-01]\n",
            " [1.96293980e-01]\n",
            " [1.53445542e-01]\n",
            " [1.48707330e-01]\n",
            " [2.40653753e-02]\n",
            " [9.35744107e-01]\n",
            " [3.42041254e-04]\n",
            " [9.37547445e-01]\n",
            " [9.49110746e-01]\n",
            " [9.45229053e-01]\n",
            " [9.38449681e-01]\n",
            " [8.14054310e-01]\n",
            " [6.20133936e-01]\n",
            " [9.96066689e-01]\n",
            " [9.23338413e-01]\n",
            " [7.86390901e-03]\n",
            " [1.50327981e-02]\n",
            " [9.35228705e-01]\n",
            " [9.74040031e-01]\n",
            " [9.83708084e-01]\n",
            " [9.93271708e-01]\n",
            " [9.83215690e-01]\n",
            " [9.96154308e-01]\n",
            " [9.86111224e-01]\n",
            " [6.46307468e-01]\n",
            " [9.98739600e-01]\n",
            " [1.02397687e-04]\n",
            " [1.40767127e-01]\n",
            " [9.28977966e-01]\n",
            " [9.89662230e-01]\n",
            " [9.29804087e-01]\n",
            " [8.52957368e-03]\n",
            " [9.67306376e-01]\n",
            " [9.77636456e-01]\n",
            " [7.95483589e-04]\n",
            " [9.98270154e-01]\n",
            " [9.33314919e-01]]\n"
          ]
        }
      ]
    },
    {
      "cell_type": "code",
      "source": [
        "import numpy as np\n",
        "P=np.round(P).flatten() #flatten-> una dimensione\n",
        "print(P)"
      ],
      "metadata": {
        "colab": {
          "base_uri": "https://localhost:8080/"
        },
        "id": "ad92Hi878kLD",
        "outputId": "705260f6-826a-41a9-a7e5-e18a4539981a"
      },
      "execution_count": 29,
      "outputs": [
        {
          "output_type": "stream",
          "name": "stdout",
          "text": [
            "[1. 1. 0. 0. 1. 0. 0. 1. 1. 0. 0. 0. 0. 1. 0. 1. 0. 0. 1. 0. 1. 0. 0. 1.\n",
            " 0. 1. 0. 1. 0. 1. 1. 1. 1. 0. 1. 1. 1. 1. 0. 1. 0. 1. 1. 1. 1. 0. 1. 0.\n",
            " 1. 0. 0. 1. 0. 1. 0. 1. 1. 1. 0. 1. 1. 0. 1. 1. 1. 0. 0. 0. 0. 0. 1. 0.\n",
            " 1. 1. 1. 1. 1. 1. 0. 1. 1. 1. 1. 1. 0. 1. 0. 1. 1. 1. 1. 1. 1. 1. 0. 0.\n",
            " 1. 0. 0. 1. 0. 1. 1. 1. 1. 0. 1. 1. 1. 1. 1. 1. 1. 1. 1. 1. 0. 0. 1. 1.\n",
            " 1. 1. 1. 1. 1. 0. 0. 1. 1. 1. 0. 1. 0. 1. 1. 0. 0. 0. 0. 1. 0. 1. 1. 1.\n",
            " 1. 1. 1. 1. 1. 0. 0. 1. 1. 1. 1. 1. 1. 1. 1. 1. 0. 0. 1. 1. 1. 0. 1. 1.\n",
            " 0. 1. 1.]\n"
          ]
        }
      ]
    },
    {
      "cell_type": "code",
      "source": [
        "print(\"Manually calculated accuracy:\", np.mean(P==y_test))\n",
        "print(\"Evaluate Output:\",model.evaluate(X_test,y_test))"
      ],
      "metadata": {
        "colab": {
          "base_uri": "https://localhost:8080/"
        },
        "id": "1W7GsD4g8xFT",
        "outputId": "5e61d13c-776d-4fac-fa96-adf7a3816c6d"
      },
      "execution_count": 32,
      "outputs": [
        {
          "output_type": "stream",
          "name": "stdout",
          "text": [
            "Manually calculated accuracy: 0.9707602339181286\n",
            "6/6 [==============================] - 0s 2ms/step - loss: 0.1069 - accuracy: 0.9708\n",
            "Evaluate Output: [0.10687967389822006, 0.9707602262496948]\n"
          ]
        }
      ]
    },
    {
      "cell_type": "code",
      "source": [
        "model.save(\"linearclassifier.h5\")\n",
        "!ls -lh"
      ],
      "metadata": {
        "colab": {
          "base_uri": "https://localhost:8080/"
        },
        "id": "dZoH4NzD-BGp",
        "outputId": "08191ef9-15a2-4906-ca6d-e96d8ed91621"
      },
      "execution_count": 35,
      "outputs": [
        {
          "output_type": "stream",
          "name": "stdout",
          "text": [
            "total 24K\n",
            "-rw-r--r-- 1 root root  19K May 20 10:17 linearclassifier.h5\n",
            "drwxr-xr-x 1 root root 4.0K May 17 13:39 sample_data\n"
          ]
        }
      ]
    },
    {
      "cell_type": "code",
      "source": [
        "model=tf.keras.models.load_model(\"linearclassifier.h5\")\n",
        "print(model.layers)\n",
        "model.evaluate(X_test,y_test)"
      ],
      "metadata": {
        "colab": {
          "base_uri": "https://localhost:8080/"
        },
        "id": "oibmbm6h-HG4",
        "outputId": "176c8480-88fb-47ec-a337-29597811fe04"
      },
      "execution_count": 36,
      "outputs": [
        {
          "output_type": "stream",
          "name": "stdout",
          "text": [
            "[<keras.layers.core.dense.Dense object at 0x7f9ec38fd690>]\n",
            "6/6 [==============================] - 0s 3ms/step - loss: 0.1069 - accuracy: 0.9708\n"
          ]
        },
        {
          "output_type": "execute_result",
          "data": {
            "text/plain": [
              "[0.10687967389822006, 0.9707602262496948]"
            ]
          },
          "metadata": {},
          "execution_count": 36
        }
      ]
    },
    {
      "cell_type": "code",
      "source": [
        "from google.colab import files\n",
        "files.download(\"linearclassifier.h5\")"
      ],
      "metadata": {
        "colab": {
          "base_uri": "https://localhost:8080/",
          "height": 17
        },
        "id": "cD9kPVgv-qnQ",
        "outputId": "160c91c6-7624-4dfc-f62b-70b0434328b9"
      },
      "execution_count": 37,
      "outputs": [
        {
          "output_type": "display_data",
          "data": {
            "text/plain": [
              "<IPython.core.display.Javascript object>"
            ],
            "application/javascript": [
              "\n",
              "    async function download(id, filename, size) {\n",
              "      if (!google.colab.kernel.accessAllowed) {\n",
              "        return;\n",
              "      }\n",
              "      const div = document.createElement('div');\n",
              "      const label = document.createElement('label');\n",
              "      label.textContent = `Downloading \"${filename}\": `;\n",
              "      div.appendChild(label);\n",
              "      const progress = document.createElement('progress');\n",
              "      progress.max = size;\n",
              "      div.appendChild(progress);\n",
              "      document.body.appendChild(div);\n",
              "\n",
              "      const buffers = [];\n",
              "      let downloaded = 0;\n",
              "\n",
              "      const channel = await google.colab.kernel.comms.open(id);\n",
              "      // Send a message to notify the kernel that we're ready.\n",
              "      channel.send({})\n",
              "\n",
              "      for await (const message of channel.messages) {\n",
              "        // Send a message to notify the kernel that we're ready.\n",
              "        channel.send({})\n",
              "        if (message.buffers) {\n",
              "          for (const buffer of message.buffers) {\n",
              "            buffers.push(buffer);\n",
              "            downloaded += buffer.byteLength;\n",
              "            progress.value = downloaded;\n",
              "          }\n",
              "        }\n",
              "      }\n",
              "      const blob = new Blob(buffers, {type: 'application/binary'});\n",
              "      const a = document.createElement('a');\n",
              "      a.href = window.URL.createObjectURL(blob);\n",
              "      a.download = filename;\n",
              "      div.appendChild(a);\n",
              "      a.click();\n",
              "      div.remove();\n",
              "    }\n",
              "  "
            ]
          },
          "metadata": {}
        },
        {
          "output_type": "display_data",
          "data": {
            "text/plain": [
              "<IPython.core.display.Javascript object>"
            ],
            "application/javascript": [
              "download(\"download_b30e0a20-0737-44a0-abad-cb3886e038d1\", \"linearclassifier.h5\", 19312)"
            ]
          },
          "metadata": {}
        }
      ]
    }
  ]
}