{
  "nbformat": 4,
  "nbformat_minor": 0,
  "metadata": {
    "colab": {
      "name": "SimpleRNN_Shapes.ipynb",
      "provenance": [],
      "authorship_tag": "ABX9TyMhPjHhI2d9qOaHPKaBuPUi",
      "include_colab_link": true
    },
    "kernelspec": {
      "name": "python3",
      "display_name": "Python 3"
    },
    "language_info": {
      "name": "python"
    }
  },
  "cells": [
    {
      "cell_type": "markdown",
      "metadata": {
        "id": "view-in-github",
        "colab_type": "text"
      },
      "source": [
        "<a href=\"https://colab.research.google.com/github/StefanoBergia/Tensorflow/blob/main/SimpleRNN_Shapes.ipynb\" target=\"_parent\"><img src=\"https://colab.research.google.com/assets/colab-badge.svg\" alt=\"Open In Colab\"/></a>"
      ]
    },
    {
      "cell_type": "code",
      "execution_count": 2,
      "metadata": {
        "colab": {
          "base_uri": "https://localhost:8080/"
        },
        "id": "zgixXVgHHHy8",
        "outputId": "08df1685-1ad0-4903-8c33-bd5c88caf1d7"
      },
      "outputs": [
        {
          "output_type": "stream",
          "name": "stdout",
          "text": [
            "2.8.0\n"
          ]
        }
      ],
      "source": [
        "import tensorflow as tf\n",
        "print(tf.__version__)"
      ]
    },
    {
      "cell_type": "code",
      "source": [
        "from tensorflow.keras.layers import Input,Dense,SimpleRNN\n",
        "from tensorflow.keras.models import Model \n",
        "from tensorflow.keras.optimizers import SGD, Adam\n",
        "\n",
        "import numpy as np\n",
        "import pandas as pd\n",
        "import matplotlib.pyplot as plt"
      ],
      "metadata": {
        "id": "Fs0t9zaAHj3E"
      },
      "execution_count": 3,
      "outputs": []
    },
    {
      "cell_type": "code",
      "source": [
        "# N = number of samples\n",
        "# T = sequence lenght\n",
        "# D = number of features\n",
        "# M = number of hidden units\n",
        "# K = number of output units"
      ],
      "metadata": {
        "id": "Wb9SYBoDkYbx"
      },
      "execution_count": 4,
      "outputs": []
    },
    {
      "cell_type": "code",
      "source": [
        "N = 1\n",
        "T = 10\n",
        "D = 3\n",
        "K =2\n",
        "X = np.random.randn(N,T,D)"
      ],
      "metadata": {
        "id": "Sk0kNbgMkpFN"
      },
      "execution_count": 5,
      "outputs": []
    },
    {
      "cell_type": "code",
      "source": [
        "\n",
        "M=5\n",
        "\n",
        "i=Input(shape=(T,D))\n",
        "x=SimpleRNN(M)(i)   #activation None, (è un regressore)\n",
        "x=Dense(K)(x)\n",
        "\n",
        "model=Model(i,x)"
      ],
      "metadata": {
        "id": "bi18PGJ5JIp1"
      },
      "execution_count": 6,
      "outputs": []
    },
    {
      "cell_type": "code",
      "source": [
        "Yhat=model.predict(X)\n",
        "print(Yhat)"
      ],
      "metadata": {
        "colab": {
          "base_uri": "https://localhost:8080/"
        },
        "id": "UkoUZ9ntmvJ7",
        "outputId": "d8cbd856-bfd5-460a-a6b9-1e003cc638eb"
      },
      "execution_count": 7,
      "outputs": [
        {
          "output_type": "stream",
          "name": "stdout",
          "text": [
            "[[-0.1594982 -0.9167178]]\n"
          ]
        }
      ]
    },
    {
      "cell_type": "code",
      "source": [
        "model.summary()"
      ],
      "metadata": {
        "colab": {
          "base_uri": "https://localhost:8080/"
        },
        "id": "c7VBggEkm_y-",
        "outputId": "89c55a7a-f832-4f36-f2d1-a3fb85fc8e6d"
      },
      "execution_count": 8,
      "outputs": [
        {
          "output_type": "stream",
          "name": "stdout",
          "text": [
            "Model: \"model\"\n",
            "_________________________________________________________________\n",
            " Layer (type)                Output Shape              Param #   \n",
            "=================================================================\n",
            " input_1 (InputLayer)        [(None, 10, 3)]           0         \n",
            "                                                                 \n",
            " simple_rnn (SimpleRNN)      (None, 5)                 45        \n",
            "                                                                 \n",
            " dense (Dense)               (None, 2)                 12        \n",
            "                                                                 \n",
            "=================================================================\n",
            "Total params: 57\n",
            "Trainable params: 57\n",
            "Non-trainable params: 0\n",
            "_________________________________________________________________\n"
          ]
        }
      ]
    },
    {
      "cell_type": "code",
      "source": [
        "model.layers[1].get_weights()"
      ],
      "metadata": {
        "colab": {
          "base_uri": "https://localhost:8080/"
        },
        "id": "K-RgbAqNnHpu",
        "outputId": "b80745dc-71db-4568-c721-aeb774a194e3"
      },
      "execution_count": 9,
      "outputs": [
        {
          "output_type": "execute_result",
          "data": {
            "text/plain": [
              "[array([[-0.5392734 ,  0.6758488 , -0.2886821 , -0.84184265,  0.6212923 ],\n",
              "        [-0.40376487,  0.24846894, -0.20741683, -0.21547127, -0.46824935],\n",
              "        [-0.02596712,  0.57341903,  0.20895845, -0.3446977 , -0.654166  ]],\n",
              "       dtype=float32),\n",
              " array([[-0.89183664,  0.28456187,  0.25484064,  0.13903117,  0.19844082],\n",
              "        [-0.17907117, -0.18981312, -0.50918794,  0.72375345, -0.38576275],\n",
              "        [-0.17667589, -0.9268593 ,  0.28874776,  0.00284612,  0.16227758],\n",
              "        [ 0.03082106,  0.05343003,  0.62595093,  0.04845782, -0.7759075 ],\n",
              "        [-0.3746957 , -0.14516354, -0.44787702, -0.6741625 , -0.42830113]],\n",
              "       dtype=float32),\n",
              " array([0., 0., 0., 0., 0.], dtype=float32)]"
            ]
          },
          "metadata": {},
          "execution_count": 9
        }
      ]
    },
    {
      "cell_type": "code",
      "source": [
        "a,b,c=model.layers[1].get_weights()\n",
        "print(a.shape,b.shape,c.shape)"
      ],
      "metadata": {
        "colab": {
          "base_uri": "https://localhost:8080/"
        },
        "id": "SUkZTArrnQnr",
        "outputId": "784bb21f-ed56-42cc-86c6-e924d943310d"
      },
      "execution_count": 10,
      "outputs": [
        {
          "output_type": "stream",
          "name": "stdout",
          "text": [
            "(3, 5) (5, 5) (5,)\n"
          ]
        }
      ]
    },
    {
      "cell_type": "code",
      "source": [
        "Wx,Wh,bh=model.layers[1].get_weights()\n",
        "Wo,bo=model.layers[2].get_weights()"
      ],
      "metadata": {
        "id": "i1mXtozXsM7a"
      },
      "execution_count": 11,
      "outputs": []
    },
    {
      "cell_type": "code",
      "source": [
        "h_last=np.zeros(M)\n",
        "x=X[0]\n",
        "Yhats=[]\n",
        "\n",
        "for t in range(T):\n",
        "  h=np.tanh(x[t].dot(Wx)+h_last.dot(Wh)+bh)\n",
        "  y=h.dot(Wo)+bo\n",
        "  Yhats.append(y)\n",
        "\n",
        "  h_last=h\n",
        "\n",
        "print(Yhats[-1])"
      ],
      "metadata": {
        "colab": {
          "base_uri": "https://localhost:8080/"
        },
        "id": "JJYQ71-6FE7E",
        "outputId": "2a7bfbc0-9200-4fb1-bb95-33c128c827dc"
      },
      "execution_count": 12,
      "outputs": [
        {
          "output_type": "stream",
          "name": "stdout",
          "text": [
            "[-0.15949825 -0.91671775]\n"
          ]
        }
      ]
    }
  ]
}