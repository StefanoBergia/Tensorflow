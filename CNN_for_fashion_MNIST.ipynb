{
  "nbformat": 4,
  "nbformat_minor": 0,
  "metadata": {
    "colab": {
      "name": "CNN for fashion MNIST.ipynb",
      "provenance": [],
      "authorship_tag": "ABX9TyNhwG6Df72zNDJ+7sBiacLt",
      "include_colab_link": true
    },
    "kernelspec": {
      "name": "python3",
      "display_name": "Python 3"
    },
    "language_info": {
      "name": "python"
    }
  },
  "cells": [
    {
      "cell_type": "markdown",
      "metadata": {
        "id": "view-in-github",
        "colab_type": "text"
      },
      "source": [
        "<a href=\"https://colab.research.google.com/github/StefanoBergia/Tensorflow/blob/main/CNN_for_fashion_MNIST.ipynb\" target=\"_parent\"><img src=\"https://colab.research.google.com/assets/colab-badge.svg\" alt=\"Open In Colab\"/></a>"
      ]
    },
    {
      "cell_type": "code",
      "execution_count": 1,
      "metadata": {
        "colab": {
          "base_uri": "https://localhost:8080/"
        },
        "id": "sLPBxMr2ec-z",
        "outputId": "27f21a78-406d-40c5-add7-59f0088c526b"
      },
      "outputs": [
        {
          "output_type": "stream",
          "name": "stdout",
          "text": [
            "2.8.0\n"
          ]
        }
      ],
      "source": [
        "import tensorflow as tf\n",
        "print(tf.__version__)"
      ]
    },
    {
      "cell_type": "code",
      "source": [
        "import numpy as np\n",
        "import matplotlib.pyplot as plt\n",
        "from tensorflow.keras.layers import Input, Conv2D, Dense, Flatten, Dropout\n",
        "from tensorflow.keras.models import Model"
      ],
      "metadata": {
        "id": "toN6j1mxeuFK"
      },
      "execution_count": 2,
      "outputs": []
    },
    {
      "cell_type": "code",
      "source": [
        "fashion_mnist= tf.keras.datasets.fashion_mnist\n",
        "\n",
        "(x_train,y_train),(x_test,y_test)=fashion_mnist.load_data()\n",
        "x_train,x_test=x_train/255.0, x_test /255.0\n",
        "print(\"X_train-shape:\", x_train.shape)"
      ],
      "metadata": {
        "colab": {
          "base_uri": "https://localhost:8080/"
        },
        "id": "qFmHpdeJgkPc",
        "outputId": "b577c5ad-17a2-4a85-812e-c46ded0a9fac"
      },
      "execution_count": 3,
      "outputs": [
        {
          "output_type": "stream",
          "name": "stdout",
          "text": [
            "X_train-shape: (60000, 28, 28)\n"
          ]
        }
      ]
    },
    {
      "cell_type": "code",
      "source": [
        "#the data is 2D, it must be 3D \n",
        "x_train=np.expand_dims(x_train,-1)\n",
        "x_test=np.expand_dims(x_test,-1)\n",
        "print(x_train.shape)"
      ],
      "metadata": {
        "colab": {
          "base_uri": "https://localhost:8080/"
        },
        "id": "UC7HJkaxg-Dd",
        "outputId": "47c681c9-8eae-43cb-bf24-842bfec23e17"
      },
      "execution_count": 4,
      "outputs": [
        {
          "output_type": "stream",
          "name": "stdout",
          "text": [
            "(60000, 28, 28, 1)\n"
          ]
        }
      ]
    },
    {
      "cell_type": "code",
      "source": [
        "K=len(set(y_train))\n",
        "print(\"number of classes:\",K)"
      ],
      "metadata": {
        "colab": {
          "base_uri": "https://localhost:8080/"
        },
        "id": "-gPkYx1ChP7D",
        "outputId": "236f02bb-6971-46bf-bb13-4c792dbec998"
      },
      "execution_count": 5,
      "outputs": [
        {
          "output_type": "stream",
          "name": "stdout",
          "text": [
            "number of classes: 10\n"
          ]
        }
      ]
    },
    {
      "cell_type": "code",
      "source": [
        "i=Input(shape=x_train[0].shape)\n",
        "x=Conv2D(32,(3,3),strides=2,activation='relu')(i)\n",
        "x=Conv2D(64,(3,3),strides=2,activation='relu')(x)\n",
        "x=Conv2D(128,(3,3),strides=2,activation='relu')(x)\n",
        "x=Flatten()(x)\n",
        "x=Dropout(0.2)(x)\n",
        "x=Dense(512,activation='relu')(x)\n",
        "x=Dropout(0.2)(x)\n",
        "x=Dense(K,activation='softmax')(x)\n",
        "\n",
        "model=Model(i,x)\n"
      ],
      "metadata": {
        "id": "M2EPzo55hWGG"
      },
      "execution_count": 6,
      "outputs": []
    },
    {
      "cell_type": "code",
      "source": [
        "model.compile(optimizer='adam',\n",
        "              loss='sparse_categorical_crossentropy',\n",
        "              metrics=['accuracy'])\n",
        "r=model.fit(x_train,y_train,validation_data=(x_test,y_test),epochs=15)"
      ],
      "metadata": {
        "colab": {
          "base_uri": "https://localhost:8080/"
        },
        "id": "p8LKR2Crh_cW",
        "outputId": "63f762ed-3bef-4004-a2fc-da357c04dc87"
      },
      "execution_count": 7,
      "outputs": [
        {
          "output_type": "stream",
          "name": "stdout",
          "text": [
            "Epoch 1/15\n",
            "1875/1875 [==============================] - 36s 18ms/step - loss: 0.5319 - accuracy: 0.8049 - val_loss: 0.3929 - val_accuracy: 0.8496\n",
            "Epoch 2/15\n",
            "1875/1875 [==============================] - 30s 16ms/step - loss: 0.3638 - accuracy: 0.8641 - val_loss: 0.3526 - val_accuracy: 0.8652\n",
            "Epoch 3/15\n",
            "1875/1875 [==============================] - 30s 16ms/step - loss: 0.3119 - accuracy: 0.8824 - val_loss: 0.3169 - val_accuracy: 0.8840\n",
            "Epoch 4/15\n",
            "1875/1875 [==============================] - 30s 16ms/step - loss: 0.2789 - accuracy: 0.8946 - val_loss: 0.3086 - val_accuracy: 0.8863\n",
            "Epoch 5/15\n",
            "1875/1875 [==============================] - 29s 16ms/step - loss: 0.2535 - accuracy: 0.9038 - val_loss: 0.2994 - val_accuracy: 0.8921\n",
            "Epoch 6/15\n",
            "1875/1875 [==============================] - 31s 16ms/step - loss: 0.2337 - accuracy: 0.9118 - val_loss: 0.2903 - val_accuracy: 0.8970\n",
            "Epoch 7/15\n",
            "1875/1875 [==============================] - 29s 16ms/step - loss: 0.2154 - accuracy: 0.9184 - val_loss: 0.2935 - val_accuracy: 0.9001\n",
            "Epoch 8/15\n",
            "1875/1875 [==============================] - 30s 16ms/step - loss: 0.2009 - accuracy: 0.9238 - val_loss: 0.3082 - val_accuracy: 0.8935\n",
            "Epoch 9/15\n",
            "1875/1875 [==============================] - 30s 16ms/step - loss: 0.1841 - accuracy: 0.9303 - val_loss: 0.2988 - val_accuracy: 0.8988\n",
            "Epoch 10/15\n",
            "1875/1875 [==============================] - 30s 16ms/step - loss: 0.1753 - accuracy: 0.9327 - val_loss: 0.3209 - val_accuracy: 0.8916\n",
            "Epoch 11/15\n",
            "1875/1875 [==============================] - 31s 16ms/step - loss: 0.1633 - accuracy: 0.9372 - val_loss: 0.2923 - val_accuracy: 0.9043\n",
            "Epoch 12/15\n",
            "1875/1875 [==============================] - 29s 15ms/step - loss: 0.1526 - accuracy: 0.9413 - val_loss: 0.3297 - val_accuracy: 0.8986\n",
            "Epoch 13/15\n",
            "1875/1875 [==============================] - 30s 16ms/step - loss: 0.1442 - accuracy: 0.9438 - val_loss: 0.3373 - val_accuracy: 0.8989\n",
            "Epoch 14/15\n",
            "1875/1875 [==============================] - 31s 17ms/step - loss: 0.1381 - accuracy: 0.9467 - val_loss: 0.3418 - val_accuracy: 0.9023\n",
            "Epoch 15/15\n",
            "1875/1875 [==============================] - 30s 16ms/step - loss: 0.1281 - accuracy: 0.9505 - val_loss: 0.3539 - val_accuracy: 0.9002\n"
          ]
        }
      ]
    },
    {
      "cell_type": "code",
      "source": [
        "import matplotlib.pyplot as plt\n",
        "plt.plot(r.history['loss'],label='loss')\n",
        "plt.plot(r.history['val_loss'],label='val_loss')\n",
        "plt.legend()"
      ],
      "metadata": {
        "colab": {
          "base_uri": "https://localhost:8080/",
          "height": 286
        },
        "id": "C9g_OiFJ7tf8",
        "outputId": "03000179-44d4-4d96-8e95-e774d8eff188"
      },
      "execution_count": 8,
      "outputs": [
        {
          "output_type": "execute_result",
          "data": {
            "text/plain": [
              "<matplotlib.legend.Legend at 0x7fc5f48d0dd0>"
            ]
          },
          "metadata": {},
          "execution_count": 8
        },
        {
          "output_type": "display_data",
          "data": {
            "text/plain": [
              "<Figure size 432x288 with 1 Axes>"
            ],
            "image/png": "[encoded data removed]"
          },
          "metadata": {
            "needs_background": "light"
          }
        }
      ]
    },
    {
      "cell_type": "code",
      "source": [
        "plt.plot(r.history['accuracy'],label='accuracy')\n",
        "plt.plot(r.history['val_accuracy'],label='val_accuracy')\n",
        "plt.legend()"
      ],
      "metadata": {
        "colab": {
          "base_uri": "https://localhost:8080/",
          "height": 283
        },
        "id": "MXT_GWY172BR",
        "outputId": "4584de43-3b4f-4ce5-8e00-1c8364dcdbb0"
      },
      "execution_count": 9,
      "outputs": [
        {
          "output_type": "execute_result",
          "data": {
            "text/plain": [
              "<matplotlib.legend.Legend at 0x7fc5f00ea090>"
            ]
          },
          "metadata": {},
          "execution_count": 9
        },
        {
          "output_type": "display_data",
          "data": {
            "text/plain": [
              "<Figure size 432x288 with 1 Axes>"
            ],
            "image/png": "[encoded data removed]"
          },
          "metadata": {
            "needs_background": "light"
          }
        }
      ]
    },
    {
      "cell_type": "code",
      "source": [
        "from sklearn.metrics import confusion_matrix\n",
        "import numpy as np\n",
        "import itertools\n",
        "def plot_confusion_matrix(cm,classes,\n",
        "                          normalize=False,\n",
        "                          title='Confusion matrix',\n",
        "                          cmap=plt.cm.Blues):\n",
        "  if normalize:\n",
        "    cm=cm.astype('float') /cm.sum(axis=1)[:,np.newaxis]\n",
        "    print(\"normalized confusion matrix\")\n",
        "  else:\n",
        "    print(\"confusion matrix without normalization\")\n",
        "  \n",
        "  print(cm)\n",
        "\n",
        "  plt.imshow(cm,interpolation='nearest',cmap=cmap)\n",
        "  plt.title(title)\n",
        "  plt.colorbar()\n",
        "  tick_marks=np.arange(len(classes))\n",
        "  plt.xticks(tick_marks,classes,rotation=45)\n",
        "  plt.yticks(tick_marks,classes)\n",
        "\n",
        "  fmt='.2f' if normalize else 'd'\n",
        "  thresh=cm.max()/2\n",
        "  for i,j in itertools.product(range(cm.shape[0]),range(cm.shape[1])):\n",
        "    plt.text(j,i,format(cm[i,j],fmt),\n",
        "             horizontalalignment='center',\n",
        "             color='white' if cm[i,j]>thresh else 'black')\n",
        "  plt.tight_layout()\n",
        "  plt.ylabel('True label')\n",
        "  plt.xlabel('Predicted label')\n",
        "  plt.show()\n",
        "  \n",
        "p_test=model.predict(x_test).argmax(axis=1)\n",
        "cm=confusion_matrix(y_test,p_test)\n",
        "plot_confusion_matrix(cm,list(range(10)))"
      ],
      "metadata": {
        "colab": {
          "base_uri": "https://localhost:8080/",
          "height": 512
        },
        "id": "HXSW1Tyx74g1",
        "outputId": "c995c024-02dd-42a9-b534-70196381dda4"
      },
      "execution_count": 10,
      "outputs": [
        {
          "output_type": "stream",
          "name": "stdout",
          "text": [
            "confusion matrix without normalization\n",
            "[[821   0  22  14   3   0 132   0   8   0]\n",
            " [  2 973   1  14   2   0   6   0   2   0]\n",
            " [ 21   0 852  10  44   0  72   0   1   0]\n",
            " [ 10   1  17 909  27   0  35   0   1   0]\n",
            " [  1   1  70  17 812   0  98   0   1   0]\n",
            " [  0   0   0   0   0 974   0  16   0  10]\n",
            " [ 89   0  67  22  60   0 750   0  12   0]\n",
            " [  0   0   0   0   0   6   0 972   0  22]\n",
            " [  2   1   3   3   3   1   4   2 981   0]\n",
            " [  0   0   0   0   0   4   1  37   0 958]]\n"
          ]
        },
        {
          "output_type": "display_data",
          "data": {
            "text/plain": [
              "<Figure size 432x288 with 2 Axes>"
            ],
            "image/png": "[encoded data removed]"
          },
          "metadata": {
            "needs_background": "light"
          }
        }
      ]
    },
    {
      "cell_type": "code",
      "source": [
        "#Label mapping\n",
        "labels='''T-shirt/top\n",
        "Trouser\n",
        "Pullover\n",
        "Coat\n",
        "Sandal\n",
        "Shirt\n",
        "Sneaker\n",
        "Bag\n",
        "Ankle boot'''.split()"
      ],
      "metadata": {
        "id": "u8SzqPPK8KUj"
      },
      "execution_count": 11,
      "outputs": []
    },
    {
      "cell_type": "code",
      "source": [
        "misclassified_idx=np.where(p_test!=y_test)[0]\n",
        "i=np.random.choice(misclassified_idx)\n",
        "plt.imshow(x_test[i].reshape(28,28),cmap='gray')\n",
        "plt.title(\"True label: %s Predicted: %s\" % (labels[y_test[i]],labels[p_test[i]]))"
      ],
      "metadata": {
        "colab": {
          "base_uri": "https://localhost:8080/",
          "height": 299
        },
        "id": "ytVJe6mw8WlB",
        "outputId": "83afc85d-90dc-498b-cdf8-2ce910ae6aaf"
      },
      "execution_count": 18,
      "outputs": [
        {
          "output_type": "execute_result",
          "data": {
            "text/plain": [
              "Text(0.5, 1.0, 'True label: Sandal Predicted: Sneaker')"
            ]
          },
          "metadata": {},
          "execution_count": 18
        },
        {
          "output_type": "display_data",
          "data": {
            "text/plain": [
              "<Figure size 432x288 with 1 Axes>"
            ],
            "image/png": "[encoded data removed]"
          },
          "metadata": {
            "needs_background": "light"
          }
        }
      ]
    }
  ]
}