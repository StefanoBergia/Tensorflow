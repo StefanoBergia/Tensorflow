{
  "nbformat": 4,
  "nbformat_minor": 0,
  "metadata": {
    "colab": {
      "name": "CNN for CIFAR-10.ipynb",
      "provenance": [],
      "authorship_tag": "ABX9TyNzY8SZ41qEqA5O8iHzYscx",
      "include_colab_link": true
    },
    "kernelspec": {
      "name": "python3",
      "display_name": "Python 3"
    },
    "language_info": {
      "name": "python"
    },
    "accelerator": "TPU"
  },
  "cells": [
    {
      "cell_type": "markdown",
      "metadata": {
        "id": "view-in-github",
        "colab_type": "text"
      },
      "source": [
        "<a href=\"https://colab.research.google.com/github/StefanoBergia/Tensorflow/blob/main/CNN_for_CIFAR_10.ipynb\" target=\"_parent\"><img src=\"https://colab.research.google.com/assets/colab-badge.svg\" alt=\"Open In Colab\"/></a>"
      ]
    },
    {
      "cell_type": "code",
      "execution_count": 15,
      "metadata": {
        "colab": {
          "base_uri": "https://localhost:8080/"
        },
        "id": "sLPBxMr2ec-z",
        "outputId": "65081bd7-8882-49e4-e318-cdf5a7d940b1"
      },
      "outputs": [
        {
          "output_type": "stream",
          "name": "stdout",
          "text": [
            "2.8.0\n"
          ]
        }
      ],
      "source": [
        "import tensorflow as tf\n",
        "print(tf.__version__)"
      ]
    },
    {
      "cell_type": "code",
      "source": [
        "import numpy as np\n",
        "import matplotlib.pyplot as plt\n",
        "from tensorflow.keras.layers import Input, Conv2D, Dense, Flatten, Dropout,BatchNormalization,MaxPooling2D\n",
        "from tensorflow.keras.models import Model"
      ],
      "metadata": {
        "id": "toN6j1mxeuFK"
      },
      "execution_count": 16,
      "outputs": []
    },
    {
      "cell_type": "code",
      "source": [
        "cifar10= tf.keras.datasets.cifar10\n",
        "\n",
        "(x_train,y_train),(x_test,y_test)=cifar10.load_data()\n",
        "x_train,x_test=x_train/255.0, x_test /255.0\n",
        "y_train,y_test=y_train.flatten(),y_test.flatten()\n",
        "print(\"X_train-shape:\", x_train.shape)"
      ],
      "metadata": {
        "colab": {
          "base_uri": "https://localhost:8080/"
        },
        "id": "qFmHpdeJgkPc",
        "outputId": "107db36c-5220-4c68-f8e2-b6efc41f2ec8"
      },
      "execution_count": 17,
      "outputs": [
        {
          "output_type": "stream",
          "name": "stdout",
          "text": [
            "X_train-shape: (50000, 32, 32, 3)\n"
          ]
        }
      ]
    },
    {
      "cell_type": "code",
      "source": [
        "K=len(set(y_train))\n",
        "print(\"number of classes:\",K)"
      ],
      "metadata": {
        "colab": {
          "base_uri": "https://localhost:8080/"
        },
        "id": "-gPkYx1ChP7D",
        "outputId": "325f2b2a-6d0a-4f15-8478-a6ba7b957707"
      },
      "execution_count": 18,
      "outputs": [
        {
          "output_type": "stream",
          "name": "stdout",
          "text": [
            "number of classes: 10\n"
          ]
        }
      ]
    },
    {
      "cell_type": "code",
      "source": [
        "x_train[0].shape"
      ],
      "metadata": {
        "colab": {
          "base_uri": "https://localhost:8080/"
        },
        "id": "KZE5xhwoCCtP",
        "outputId": "5306478c-9f23-4886-97ec-987a22429437"
      },
      "execution_count": 19,
      "outputs": [
        {
          "output_type": "execute_result",
          "data": {
            "text/plain": [
              "(32, 32, 3)"
            ]
          },
          "metadata": {},
          "execution_count": 19
        }
      ]
    },
    {
      "cell_type": "code",
      "source": [
        "i=Input(shape=x_train[0].shape)\n",
        "\n",
        "x=Conv2D(32,(3,3),strides=2,activation='relu',padding='same')(i)     #padding='same' evitare che l'immagine si rimpicciolisca troppo\n",
        "x=BatchNormalization()(x)\n",
        "x=Conv2D(32,(3,3),strides=2,activation='relu',padding='same')(x)     \n",
        "x=BatchNormalization()(x)\n",
        "x=MaxPooling2D((2,2))(x)\n",
        "\n",
        "x=Conv2D(64,(3,3),strides=2,activation='relu',padding='same')(x)     \n",
        "x=BatchNormalization()(x)\n",
        "x=Conv2D(64,(3,3),strides=2,activation='relu',padding='same')(x)     \n",
        "x=BatchNormalization()(x)\n",
        "x=MaxPooling2D((2,2), padding='same')(x)\n",
        "\n",
        "\n",
        "x=Conv2D(128,(3,3),strides=2,activation='relu',padding='same')(x)     \n",
        "x=BatchNormalization()(x)\n",
        "x=Conv2D(128,(3,3),strides=2,activation='relu',padding='same')(x)     \n",
        "x=BatchNormalization()(x)\n",
        "x=MaxPooling2D((2,2), padding='same')(x) \n",
        "\n",
        "x=Flatten()(x)\n",
        "x=Dropout(0.2)(x)\n",
        "x=Dense(1024,activation='relu')(x)\n",
        "x=Dropout(0.2)(x)\n",
        "x=Dense(K,activation='softmax')(x)\n",
        "\n",
        "model=Model(i,x)\n",
        "\n",
        "model.compile(optimizer='adam',\n",
        "              loss='sparse_categorical_crossentropy',\n",
        "              metrics=['accuracy'])\n"
      ],
      "metadata": {
        "id": "M2EPzo55hWGG"
      },
      "execution_count": 20,
      "outputs": []
    },
    {
      "cell_type": "code",
      "source": [
        "batch_size=32\n",
        "data_generator=tf.keras.preprocessing.image.ImageDataGenerator(width_shift_range=0.1,height_shift_range=0.1,horizontal_flip=True)\n",
        "train_generator=data_generator.flow(x_train,y_train,batch_size)\n",
        "steps_per_epoch=x_train.shape[0] // batch_size\n",
        "r=model.fit_generator(train_generator,validation_data=(x_test,y_test),steps_per_epoch=steps_per_epoch,epochs=50)"
      ],
      "metadata": {
        "colab": {
          "base_uri": "https://localhost:8080/"
        },
        "id": "SlM_WCws8h1t",
        "outputId": "afe7f201-cce1-4e50-d303-fa118a94bdc9"
      },
      "execution_count": 21,
      "outputs": [
        {
          "output_type": "stream",
          "name": "stderr",
          "text": [
            "/usr/local/lib/python3.7/dist-packages/ipykernel_launcher.py:5: UserWarning: `Model.fit_generator` is deprecated and will be removed in a future version. Please use `Model.fit`, which supports generators.\n",
            "  \"\"\"\n"
          ]
        },
        {
          "output_type": "stream",
          "name": "stdout",
          "text": [
            "Epoch 1/50\n",
            "1562/1562 [==============================] - 75s 47ms/step - loss: 1.6631 - accuracy: 0.3973 - val_loss: 1.3643 - val_accuracy: 0.5048\n",
            "Epoch 2/50\n",
            "1562/1562 [==============================] - 70s 45ms/step - loss: 1.4076 - accuracy: 0.4960 - val_loss: 1.3182 - val_accuracy: 0.5254\n",
            "Epoch 3/50\n",
            "1562/1562 [==============================] - 71s 45ms/step - loss: 1.3081 - accuracy: 0.5366 - val_loss: 1.2039 - val_accuracy: 0.5729\n",
            "Epoch 4/50\n",
            "1562/1562 [==============================] - 72s 46ms/step - loss: 1.2384 - accuracy: 0.5630 - val_loss: 1.1628 - val_accuracy: 0.5792\n",
            "Epoch 5/50\n",
            "1562/1562 [==============================] - 71s 46ms/step - loss: 1.1862 - accuracy: 0.5852 - val_loss: 1.1648 - val_accuracy: 0.5900\n",
            "Epoch 6/50\n",
            "1562/1562 [==============================] - 71s 46ms/step - loss: 1.1439 - accuracy: 0.5957 - val_loss: 1.1402 - val_accuracy: 0.5967\n",
            "Epoch 7/50\n",
            "1562/1562 [==============================] - 72s 46ms/step - loss: 1.1111 - accuracy: 0.6113 - val_loss: 1.0290 - val_accuracy: 0.6348\n",
            "Epoch 8/50\n",
            "1562/1562 [==============================] - 72s 46ms/step - loss: 1.0850 - accuracy: 0.6211 - val_loss: 1.0235 - val_accuracy: 0.6414\n",
            "Epoch 9/50\n",
            "1562/1562 [==============================] - 72s 46ms/step - loss: 1.0652 - accuracy: 0.6256 - val_loss: 0.9974 - val_accuracy: 0.6419\n",
            "Epoch 10/50\n",
            "1562/1562 [==============================] - 72s 46ms/step - loss: 1.0431 - accuracy: 0.6369 - val_loss: 0.9964 - val_accuracy: 0.6532\n",
            "Epoch 11/50\n",
            "1562/1562 [==============================] - 73s 47ms/step - loss: 1.0276 - accuracy: 0.6418 - val_loss: 0.9729 - val_accuracy: 0.6547\n",
            "Epoch 12/50\n",
            "1562/1562 [==============================] - 73s 47ms/step - loss: 1.0085 - accuracy: 0.6464 - val_loss: 1.0337 - val_accuracy: 0.6426\n",
            "Epoch 13/50\n",
            "1562/1562 [==============================] - 72s 46ms/step - loss: 0.9961 - accuracy: 0.6521 - val_loss: 0.9815 - val_accuracy: 0.6570\n",
            "Epoch 14/50\n",
            "1562/1562 [==============================] - 72s 46ms/step - loss: 0.9803 - accuracy: 0.6555 - val_loss: 0.9055 - val_accuracy: 0.6832\n",
            "Epoch 15/50\n",
            "1562/1562 [==============================] - 73s 47ms/step - loss: 0.9731 - accuracy: 0.6603 - val_loss: 0.9120 - val_accuracy: 0.6768\n",
            "Epoch 16/50\n",
            "1562/1562 [==============================] - 73s 47ms/step - loss: 0.9607 - accuracy: 0.6633 - val_loss: 0.8975 - val_accuracy: 0.6844\n",
            "Epoch 17/50\n",
            "1562/1562 [==============================] - 73s 47ms/step - loss: 0.9480 - accuracy: 0.6698 - val_loss: 0.9097 - val_accuracy: 0.6792\n",
            "Epoch 18/50\n",
            "1562/1562 [==============================] - 72s 46ms/step - loss: 0.9424 - accuracy: 0.6712 - val_loss: 0.9169 - val_accuracy: 0.6804\n",
            "Epoch 19/50\n",
            "1562/1562 [==============================] - 73s 46ms/step - loss: 0.9374 - accuracy: 0.6729 - val_loss: 0.9011 - val_accuracy: 0.6834\n",
            "Epoch 20/50\n",
            "1562/1562 [==============================] - 72s 46ms/step - loss: 0.9207 - accuracy: 0.6756 - val_loss: 0.8643 - val_accuracy: 0.6959\n",
            "Epoch 21/50\n",
            "1562/1562 [==============================] - 74s 47ms/step - loss: 0.9159 - accuracy: 0.6800 - val_loss: 0.8893 - val_accuracy: 0.6899\n",
            "Epoch 22/50\n",
            "1562/1562 [==============================] - 74s 48ms/step - loss: 0.9125 - accuracy: 0.6822 - val_loss: 0.9030 - val_accuracy: 0.6829\n",
            "Epoch 23/50\n",
            "1562/1562 [==============================] - 73s 46ms/step - loss: 0.9131 - accuracy: 0.6808 - val_loss: 0.8811 - val_accuracy: 0.6919\n",
            "Epoch 24/50\n",
            "1562/1562 [==============================] - 73s 47ms/step - loss: 0.9006 - accuracy: 0.6856 - val_loss: 0.9167 - val_accuracy: 0.6796\n",
            "Epoch 25/50\n",
            "1562/1562 [==============================] - 72s 46ms/step - loss: 0.8907 - accuracy: 0.6881 - val_loss: 0.8471 - val_accuracy: 0.7006\n",
            "Epoch 26/50\n",
            "1562/1562 [==============================] - 72s 46ms/step - loss: 0.8820 - accuracy: 0.6925 - val_loss: 0.9842 - val_accuracy: 0.6507\n",
            "Epoch 27/50\n",
            "1562/1562 [==============================] - 72s 46ms/step - loss: 0.8781 - accuracy: 0.6945 - val_loss: 0.8737 - val_accuracy: 0.6946\n",
            "Epoch 28/50\n",
            "1562/1562 [==============================] - 71s 46ms/step - loss: 0.8701 - accuracy: 0.6980 - val_loss: 0.8635 - val_accuracy: 0.6988\n",
            "Epoch 29/50\n",
            "1562/1562 [==============================] - 72s 46ms/step - loss: 0.8712 - accuracy: 0.6937 - val_loss: 0.8370 - val_accuracy: 0.7056\n",
            "Epoch 30/50\n",
            "1562/1562 [==============================] - 73s 47ms/step - loss: 0.8673 - accuracy: 0.6968 - val_loss: 0.8104 - val_accuracy: 0.7177\n",
            "Epoch 31/50\n",
            "1562/1562 [==============================] - 73s 47ms/step - loss: 0.8637 - accuracy: 0.6966 - val_loss: 0.8495 - val_accuracy: 0.7023\n",
            "Epoch 32/50\n",
            "1562/1562 [==============================] - 74s 48ms/step - loss: 0.8551 - accuracy: 0.7006 - val_loss: 0.8301 - val_accuracy: 0.7068\n",
            "Epoch 33/50\n",
            "1562/1562 [==============================] - 75s 48ms/step - loss: 0.8500 - accuracy: 0.7003 - val_loss: 0.8080 - val_accuracy: 0.7154\n",
            "Epoch 34/50\n",
            "1562/1562 [==============================] - 75s 48ms/step - loss: 0.8462 - accuracy: 0.7053 - val_loss: 0.8176 - val_accuracy: 0.7107\n",
            "Epoch 35/50\n",
            "1562/1562 [==============================] - 76s 48ms/step - loss: 0.8449 - accuracy: 0.7046 - val_loss: 0.8236 - val_accuracy: 0.7078\n",
            "Epoch 36/50\n",
            "1562/1562 [==============================] - 76s 49ms/step - loss: 0.8475 - accuracy: 0.7047 - val_loss: 0.8275 - val_accuracy: 0.7116\n",
            "Epoch 37/50\n",
            "1562/1562 [==============================] - 76s 49ms/step - loss: 0.8360 - accuracy: 0.7098 - val_loss: 0.8058 - val_accuracy: 0.7186\n",
            "Epoch 38/50\n",
            "1562/1562 [==============================] - 79s 51ms/step - loss: 0.8303 - accuracy: 0.7099 - val_loss: 0.8294 - val_accuracy: 0.7013\n",
            "Epoch 39/50\n",
            "1562/1562 [==============================] - 78s 50ms/step - loss: 0.8318 - accuracy: 0.7113 - val_loss: 0.7962 - val_accuracy: 0.7216\n",
            "Epoch 40/50\n",
            "1562/1562 [==============================] - 78s 50ms/step - loss: 0.8257 - accuracy: 0.7122 - val_loss: 0.8011 - val_accuracy: 0.7168\n",
            "Epoch 41/50\n",
            "1562/1562 [==============================] - 77s 49ms/step - loss: 0.8256 - accuracy: 0.7107 - val_loss: 0.7802 - val_accuracy: 0.7225\n",
            "Epoch 42/50\n",
            "1562/1562 [==============================] - 76s 49ms/step - loss: 0.8223 - accuracy: 0.7117 - val_loss: 0.7691 - val_accuracy: 0.7270\n",
            "Epoch 43/50\n",
            "1562/1562 [==============================] - 76s 49ms/step - loss: 0.8184 - accuracy: 0.7147 - val_loss: 0.8390 - val_accuracy: 0.7064\n",
            "Epoch 44/50\n",
            "1562/1562 [==============================] - 77s 49ms/step - loss: 0.8138 - accuracy: 0.7155 - val_loss: 0.8041 - val_accuracy: 0.7127\n",
            "Epoch 45/50\n",
            "1562/1562 [==============================] - 77s 49ms/step - loss: 0.8165 - accuracy: 0.7144 - val_loss: 0.7867 - val_accuracy: 0.7230\n",
            "Epoch 46/50\n",
            "1562/1562 [==============================] - 78s 50ms/step - loss: 0.8104 - accuracy: 0.7161 - val_loss: 0.7907 - val_accuracy: 0.7195\n",
            "Epoch 47/50\n",
            "1562/1562 [==============================] - 76s 49ms/step - loss: 0.8071 - accuracy: 0.7167 - val_loss: 0.7928 - val_accuracy: 0.7193\n",
            "Epoch 48/50\n",
            "1562/1562 [==============================] - 77s 50ms/step - loss: 0.8041 - accuracy: 0.7178 - val_loss: 0.7691 - val_accuracy: 0.7285\n",
            "Epoch 49/50\n",
            "1562/1562 [==============================] - 78s 50ms/step - loss: 0.7987 - accuracy: 0.7190 - val_loss: 0.7812 - val_accuracy: 0.7238\n",
            "Epoch 50/50\n",
            "1562/1562 [==============================] - 77s 50ms/step - loss: 0.8045 - accuracy: 0.7175 - val_loss: 0.7983 - val_accuracy: 0.7183\n"
          ]
        }
      ]
    },
    {
      "cell_type": "code",
      "source": [
        "import matplotlib.pyplot as plt\n",
        "plt.plot(r.history['loss'],label='loss')\n",
        "plt.plot(r.history['val_loss'],label='val_loss')\n",
        "plt.legend()"
      ],
      "metadata": {
        "id": "C9g_OiFJ7tf8",
        "colab": {
          "base_uri": "https://localhost:8080/",
          "height": 282
        },
        "outputId": "86daa548-c3cd-4be1-fd58-9b8b269db790"
      },
      "execution_count": 22,
      "outputs": [
        {
          "output_type": "execute_result",
          "data": {
            "text/plain": [
              "<matplotlib.legend.Legend at 0x7febb4c433d0>"
            ]
          },
          "metadata": {},
          "execution_count": 22
        },
        {
          "output_type": "display_data",
          "data": {
            "text/plain": [
              "<Figure size 432x288 with 1 Axes>"
            ],
            "image/png": "[encoded data removed]"
          },
          "metadata": {
            "needs_background": "light"
          }
        }
      ]
    },
    {
      "cell_type": "code",
      "source": [
        "plt.plot(r.history['accuracy'],label='accuracy')\n",
        "plt.plot(r.history['val_accuracy'],label='val_accuracy')\n",
        "plt.legend()"
      ],
      "metadata": {
        "id": "MXT_GWY172BR",
        "colab": {
          "base_uri": "https://localhost:8080/",
          "height": 282
        },
        "outputId": "cc388618-945c-48fa-ebf0-833f0da470a6"
      },
      "execution_count": 23,
      "outputs": [
        {
          "output_type": "execute_result",
          "data": {
            "text/plain": [
              "<matplotlib.legend.Legend at 0x7febb4c0f950>"
            ]
          },
          "metadata": {},
          "execution_count": 23
        },
        {
          "output_type": "display_data",
          "data": {
            "text/plain": [
              "<Figure size 432x288 with 1 Axes>"
            ],
            "image/png": "[encoded data removed]"
          },
          "metadata": {
            "needs_background": "light"
          }
        }
      ]
    },
    {
      "cell_type": "code",
      "source": [
        "from sklearn.metrics import confusion_matrix\n",
        "import numpy as np\n",
        "import itertools\n",
        "def plot_confusion_matrix(cm,classes,\n",
        "                          normalize=False,\n",
        "                          title='Confusion matrix',\n",
        "                          cmap=plt.cm.Blues):\n",
        "  if normalize:\n",
        "    cm=cm.astype('float') /cm.sum(axis=1)[:,np.newaxis]\n",
        "    print(\"normalized confusion matrix\")\n",
        "  else:\n",
        "    print(\"confusion matrix without normalization\")\n",
        "  \n",
        "  print(cm)\n",
        "\n",
        "  plt.imshow(cm,interpolation='nearest',cmap=cmap)\n",
        "  plt.title(title)\n",
        "  plt.colorbar()\n",
        "  tick_marks=np.arange(len(classes))\n",
        "  plt.xticks(tick_marks,classes,rotation=45)\n",
        "  plt.yticks(tick_marks,classes)\n",
        "\n",
        "  fmt='.2f' if normalize else 'd'\n",
        "  thresh=cm.max()/2\n",
        "  for i,j in itertools.product(range(cm.shape[0]),range(cm.shape[1])):\n",
        "    plt.text(j,i,format(cm[i,j],fmt),\n",
        "             horizontalalignment='center',\n",
        "             color='white' if cm[i,j]>thresh else 'black')\n",
        "  plt.tight_layout()\n",
        "  plt.ylabel('True label')\n",
        "  plt.xlabel('Predicted label')\n",
        "  plt.show()\n",
        "  \n",
        "p_test=model.predict(x_test).argmax(axis=1)\n",
        "cm=confusion_matrix(y_test,p_test)\n",
        "plot_confusion_matrix(cm,list(range(10)))"
      ],
      "metadata": {
        "id": "HXSW1Tyx74g1",
        "colab": {
          "base_uri": "https://localhost:8080/",
          "height": 502
        },
        "outputId": "47ca0a36-3027-4844-f519-91327902287f"
      },
      "execution_count": 24,
      "outputs": [
        {
          "output_type": "stream",
          "name": "stdout",
          "text": [
            "confusion matrix without normalization\n",
            "[[719  25  55  19  22   6  19  21  58  56]\n",
            " [  9 831   4   5   3   4   5   8   9 122]\n",
            " [ 50   7 601  24  88  54 104  48  10  14]\n",
            " [  9  14  57 443  58 168 149  66  10  26]\n",
            " [ 12   2  53  35 633  26 115 112   7   5]\n",
            " [ 11   5  28 167  44 574  70  90   2   9]\n",
            " [  5   4  21  31  19  13 890  10   2   5]\n",
            " [  9   6   9  24  28  55  19 831   3  16]\n",
            " [ 39  56  14   9  13   5   8   6 801  49]\n",
            " [ 17  60   4   9   3   4   8  18  17 860]]\n"
          ]
        },
        {
          "output_type": "display_data",
          "data": {
            "text/plain": [
              "<Figure size 432x288 with 2 Axes>"
            ],
            "image/png": "[encoded data removed]"
          },
          "metadata": {
            "needs_background": "light"
          }
        }
      ]
    },
    {
      "cell_type": "code",
      "source": [
        "#Label mapping\n",
        "labels='''airplane\n",
        "automobile\n",
        "bird\n",
        "cat\n",
        "deer\n",
        "dog\n",
        "frog\n",
        "horse\n",
        "ship\n",
        "truck'''.split()"
      ],
      "metadata": {
        "id": "u8SzqPPK8KUj"
      },
      "execution_count": 25,
      "outputs": []
    },
    {
      "cell_type": "code",
      "source": [
        "misclassified_idx=np.where(p_test!=y_test)[0]\n",
        "i=np.random.choice(misclassified_idx)\n",
        "x_test[i].shape\n",
        "plt.imshow(x_test[i])\n",
        "plt.title(\"True label: %s Predicted: %s\" % (labels[y_test[i]],labels[p_test[i]]))"
      ],
      "metadata": {
        "id": "ytVJe6mw8WlB",
        "colab": {
          "base_uri": "https://localhost:8080/",
          "height": 298
        },
        "outputId": "9aa9f329-ed21-47ee-ff07-9c0a92a04d01"
      },
      "execution_count": 28,
      "outputs": [
        {
          "output_type": "execute_result",
          "data": {
            "text/plain": [
              "Text(0.5, 1.0, 'True label: automobile Predicted: truck')"
            ]
          },
          "metadata": {},
          "execution_count": 28
        },
        {
          "output_type": "display_data",
          "data": {
            "text/plain": [
              "<Figure size 432x288 with 1 Axes>"
            ],
            "image/png": "[encoded data removed]"
          },
          "metadata": {
            "needs_background": "light"
          }
        }
      ]
    },
    {
      "cell_type": "code",
      "source": [
        "model.summary()"
      ],
      "metadata": {
        "colab": {
          "base_uri": "https://localhost:8080/"
        },
        "id": "KbU7uyu0-ibP",
        "outputId": "89be95ea-4ddb-421f-dfe6-f38891b9b80f"
      },
      "execution_count": 27,
      "outputs": [
        {
          "output_type": "stream",
          "name": "stdout",
          "text": [
            "Model: \"model_1\"\n",
            "_________________________________________________________________\n",
            " Layer (type)                Output Shape              Param #   \n",
            "=================================================================\n",
            " input_3 (InputLayer)        [(None, 32, 32, 3)]       0         \n",
            "                                                                 \n",
            " conv2d_10 (Conv2D)          (None, 16, 16, 32)        896       \n",
            "                                                                 \n",
            " batch_normalization_10 (Bat  (None, 16, 16, 32)       128       \n",
            " chNormalization)                                                \n",
            "                                                                 \n",
            " conv2d_11 (Conv2D)          (None, 8, 8, 32)          9248      \n",
            "                                                                 \n",
            " batch_normalization_11 (Bat  (None, 8, 8, 32)         128       \n",
            " chNormalization)                                                \n",
            "                                                                 \n",
            " max_pooling2d_5 (MaxPooling  (None, 4, 4, 32)         0         \n",
            " 2D)                                                             \n",
            "                                                                 \n",
            " conv2d_12 (Conv2D)          (None, 2, 2, 64)          18496     \n",
            "                                                                 \n",
            " batch_normalization_12 (Bat  (None, 2, 2, 64)         256       \n",
            " chNormalization)                                                \n",
            "                                                                 \n",
            " conv2d_13 (Conv2D)          (None, 1, 1, 64)          36928     \n",
            "                                                                 \n",
            " batch_normalization_13 (Bat  (None, 1, 1, 64)         256       \n",
            " chNormalization)                                                \n",
            "                                                                 \n",
            " max_pooling2d_6 (MaxPooling  (None, 1, 1, 64)         0         \n",
            " 2D)                                                             \n",
            "                                                                 \n",
            " conv2d_14 (Conv2D)          (None, 1, 1, 128)         73856     \n",
            "                                                                 \n",
            " batch_normalization_14 (Bat  (None, 1, 1, 128)        512       \n",
            " chNormalization)                                                \n",
            "                                                                 \n",
            " conv2d_15 (Conv2D)          (None, 1, 1, 128)         147584    \n",
            "                                                                 \n",
            " batch_normalization_15 (Bat  (None, 1, 1, 128)        512       \n",
            " chNormalization)                                                \n",
            "                                                                 \n",
            " max_pooling2d_7 (MaxPooling  (None, 1, 1, 128)        0         \n",
            " 2D)                                                             \n",
            "                                                                 \n",
            " flatten_1 (Flatten)         (None, 128)               0         \n",
            "                                                                 \n",
            " dropout_2 (Dropout)         (None, 128)               0         \n",
            "                                                                 \n",
            " dense_2 (Dense)             (None, 1024)              132096    \n",
            "                                                                 \n",
            " dropout_3 (Dropout)         (None, 1024)              0         \n",
            "                                                                 \n",
            " dense_3 (Dense)             (None, 10)                10250     \n",
            "                                                                 \n",
            "=================================================================\n",
            "Total params: 431,146\n",
            "Trainable params: 430,250\n",
            "Non-trainable params: 896\n",
            "_________________________________________________________________\n"
          ]
        }
      ]
    }
  ]
}